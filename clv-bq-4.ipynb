{
 "metadata": {
  "name": "",
  "signature": "sha256:aaaa47248ebad5408e471967693aaa7e70d332a14b2adb6cf8daaced32d6f48f"
 },
 "nbformat": 3,
 "nbformat_minor": 0,
 "worksheets": [
  {
   "cells": [
    {
     "cell_type": "markdown",
     "metadata": {},
     "source": [
      "This document walks through how to do Customer Lifetime Value (CLV) analysis\n",
      "using [BigQuery Export for Google Analytics](https://support.google.com/analytics/answer/3437618?hl=en). "
     ]
    },
    {
     "cell_type": "heading",
     "level": 2,
     "metadata": {},
     "source": [
      "Intro"
     ]
    },
    {
     "cell_type": "markdown",
     "metadata": {},
     "source": [
      "In order to follow this guide and execute all of the code using your own data, you need the following:\n",
      "\n",
      "  1. Access to [BigQuery Export for Google Analytics](https://support.google.com/analytics/answer/3437618) \n",
      "  2. Ecommerce or another conversion activity being tracked\n",
      "  3. Data for at least a few months\n",
      "\n"
     ]
    },
    {
     "cell_type": "heading",
     "level": 2,
     "metadata": {},
     "source": [
      "Outline"
     ]
    },
    {
     "cell_type": "markdown",
     "metadata": {},
     "source": [
      "This article will use BigQuery Export to calculate Customer Lifetime Value and\n",
      "some related metrics by completing the following steps:\n",
      "\n",
      "  1. Query BigQuery to extract the data needed\n",
      "  2. Import this data into R \n",
      "  3. Use the data to build a model that forecasts CLV and related metrics for each customer:\n",
      "     * Customer Lifetime Value\n",
      "     * Expected transactions\n",
      "     * Expected spend per transaction\n",
      "     * The probability that a given customer is still active\n",
      "  4. Import the CLV calculations back into BigQuery\n",
      "  5. Analyze the CLV calculations using BigQuery\n",
      "\n",
      "This article will outline each of these steps."
     ]
    },
    {
     "cell_type": "heading",
     "level": 2,
     "metadata": {},
     "source": [
      "CLV"
     ]
    },
    {
     "cell_type": "markdown",
     "metadata": {},
     "source": [
      "Customer Lifetime Value is is the dollar amount of money that an individual\n",
      "customer will spend with a given business in the future. It is often used to:\n",
      "\n",
      "  * Value segments or all of your customer base \n",
      "  * Decide how much to spend acquiring new customers in a given segment\n",
      "  * Decide how much to spend retaining certain customers \n",
      "  * Rank customers\n",
      "  * Measure success of marketing action based upon baseline CLV forecast\n",
      "\n",
      "Additionally, the probability that a customer is active is used to:\n",
      "\n",
      "  * Determine size of active customer base\n",
      "  * Identify customers who are on the brink of becoming inactive and take action\n",
      "\n",
      "Taken together, a strong model of user behavior serves as the foundation for\n",
      "many marketing activities and measurement.\n"
     ]
    },
    {
     "cell_type": "heading",
     "level": 2,
     "metadata": {},
     "source": [
      "Model"
     ]
    },
    {
     "cell_type": "markdown",
     "metadata": {},
     "source": [
      "Talk about the model\n"
     ]
    },
    {
     "cell_type": "heading",
     "level": 2,
     "metadata": {},
     "source": [
      "Big Query"
     ]
    },
    {
     "cell_type": "markdown",
     "metadata": {},
     "source": [
      "First, you need to extract the data from BigQuery. The following `gcp.bigquery` import makes the BigQuery functionality available to this notebook. "
     ]
    },
    {
     "cell_type": "code",
     "collapsed": false,
     "input": [
      "import gcp\n",
      "import gcp.bigquery as bq"
     ],
     "language": "python",
     "metadata": {},
     "outputs": [],
     "prompt_number": 1
    },
    {
     "cell_type": "markdown",
     "metadata": {},
     "source": [
      "As long as you are using Ecommerce tracking or Goals, all of the data needed to\n",
      "calculate CLV is available via BigQuery Export. \n",
      "\n",
      "This query extracts the date, number of transactions, and transaction revenue\n",
      "for all transactions among first time visitors in a given date range (i.e. a cohort).\n",
      "\n",
      "The query below is customized as follows. Modify to suit your business. "
     ]
    },
    {
     "cell_type": "code",
     "collapsed": false,
     "input": [
      "class Column(object):\n",
      "    def __init__(self, name):\n",
      "        self._name = name\n",
      "    def _repr_sql_(self):\n",
      "        return self._name\n",
      "\n",
      "\n",
      "ga_view_id = 33324909\n",
      "#few transactions\n",
      "#ga_view_id = 44956929\n",
      "#ga_view_id = 62092124\n",
      "# starting November 12, 2014\n",
      "#ga_view_id = 89571105 \n",
      "visitor_id = Column('fullVisitorId')\n",
      "conversion = Column('totals.transactions')\n",
      "conversion_revenue = Column('totals.transactionRevenue')\n",
      "start_date = '2013-09-01'\n",
      "end_date = '2014-06-01'\n",
      "cohort_end_date = '2013-09-15'\n",
      "end_of_cal_period = '2014-01-15'\n",
      "sampling_rate = Column('1/50')\n",
      "join_each_used = Column('') # if needed set this to 'EACH' rename to use_join_each"
     ],
     "language": "python",
     "metadata": {},
     "outputs": [],
     "prompt_number": 6
    },
    {
     "cell_type": "markdown",
     "metadata": {},
     "source": [
      "Now that all of the input values needed have been specified, run the query below to view the raw data."
     ]
    },
    {
     "cell_type": "code",
     "collapsed": false,
     "input": [
      "%%bq_sql event_log_query\n",
      "SELECT\n",
      "  *\n",
      "FROM\n",
      "  (\n",
      "  SELECT\n",
      "    date,\n",
      "    $visitor_id,\n",
      "    $conversion_revenue,\n",
      "    $conversion,\n",
      "  FROM\n",
      "    TABLE_DATE_RANGE([941929509095:$ga_view_id.ga_sessions_],\n",
      "      TIMESTAMP($start_date),\n",
      "      TIMESTAMP($end_date))\n",
      "  WHERE\n",
      "    $conversion IS NOT NULL\n",
      "    ) a\n",
      "JOIN\n",
      "  EACH\n",
      "  (\n",
      "  SELECT\n",
      "    $visitor_id\n",
      "  FROM\n",
      "    TABLE_DATE_RANGE([941929509095:$ga_view_id.ga_sessions_],\n",
      "      TIMESTAMP($start_date),\n",
      "      TIMESTAMP($cohort_end_date))\n",
      "  WHERE\n",
      "    totals.newVisits IS NOT NULL\n",
      "    AND RAND() < $sampling_rate\n",
      "  GROUP BY\n",
      "    1\n",
      "    ) b\n",
      "ON\n",
      "  a.$visitor_id=b.$visitor_id\n",
      "ORDER BY\n",
      "  date"
     ],
     "language": "python",
     "metadata": {},
     "outputs": [],
     "prompt_number": 7
    },
    {
     "cell_type": "code",
     "collapsed": false,
     "input": [
      "print event_log_query.sql"
     ],
     "language": "python",
     "metadata": {},
     "outputs": [
      {
       "output_type": "stream",
       "stream": "stdout",
       "text": [
        "SELECT\n",
        "  *\n",
        "FROM\n",
        "  (\n",
        "  SELECT\n",
        "    date,\n",
        "    fullVisitorId,\n",
        "    totals.transactionRevenue,\n",
        "    totals.transactions,\n",
        "  FROM\n",
        "    TABLE_DATE_RANGE([941929509095:33324909.ga_sessions_],\n",
        "      TIMESTAMP(\"2013-09-01\"),\n",
        "      TIMESTAMP(\"2014-06-01\"))\n",
        "  WHERE\n",
        "    totals.transactions IS NOT NULL\n",
        "    ) a\n",
        "JOIN\n",
        "  EACH\n",
        "  (\n",
        "  SELECT\n",
        "    fullVisitorId\n",
        "  FROM\n",
        "    TABLE_DATE_RANGE([941929509095:33324909.ga_sessions_],\n",
        "      TIMESTAMP(\"2013-09-01\"),\n",
        "      TIMESTAMP(\"2013-09-15\"))\n",
        "  WHERE\n",
        "    totals.newVisits IS NOT NULL\n",
        "    AND RAND() < 1/50\n",
        "  GROUP BY\n",
        "    1\n",
        "    ) b\n",
        "ON\n",
        "  a.fullVisitorId=b.fullVisitorId\n",
        "ORDER BY\n",
        "  date\n"
       ]
      }
     ],
     "prompt_number": 8
    },
    {
     "cell_type": "code",
     "collapsed": false,
     "input": [
      "event_log_data = event_log_query.results()\n",
      "event_log_data.to_dataframe()"
     ],
     "language": "python",
     "metadata": {},
     "outputs": [
      {
       "html": [
        "<div style=\"max-height:1000px;max-width:1500px;overflow:auto;\">\n",
        "<table border=\"1\" class=\"dataframe\">\n",
        "  <thead>\n",
        "    <tr style=\"text-align: right;\">\n",
        "      <th></th>\n",
        "      <th>a_date</th>\n",
        "      <th>a_fullVisitorId</th>\n",
        "      <th>a_totals_transactionRevenue</th>\n",
        "      <th>a_totals_transactions</th>\n",
        "      <th>b_fullVisitorId</th>\n",
        "    </tr>\n",
        "  </thead>\n",
        "  <tbody>\n",
        "    <tr>\n",
        "      <th>0    </th>\n",
        "      <td> 20130901</td>\n",
        "      <td> 1761427103773039371</td>\n",
        "      <td>  15000000</td>\n",
        "      <td>  1</td>\n",
        "      <td> 1761427103773039371</td>\n",
        "    </tr>\n",
        "    <tr>\n",
        "      <th>1    </th>\n",
        "      <td> 20130901</td>\n",
        "      <td>   81788324861404386</td>\n",
        "      <td>   5000000</td>\n",
        "      <td>  1</td>\n",
        "      <td>   81788324861404386</td>\n",
        "    </tr>\n",
        "    <tr>\n",
        "      <th>2    </th>\n",
        "      <td> 20130901</td>\n",
        "      <td>  800978008711306585</td>\n",
        "      <td> 910000000</td>\n",
        "      <td>  1</td>\n",
        "      <td>  800978008711306585</td>\n",
        "    </tr>\n",
        "    <tr>\n",
        "      <th>3    </th>\n",
        "      <td> 20130901</td>\n",
        "      <td>  800978008711306585</td>\n",
        "      <td>  28000000</td>\n",
        "      <td>  3</td>\n",
        "      <td>  800978008711306585</td>\n",
        "    </tr>\n",
        "    <tr>\n",
        "      <th>4    </th>\n",
        "      <td> 20130901</td>\n",
        "      <td> 5649410638903176797</td>\n",
        "      <td>   1000000</td>\n",
        "      <td>  4</td>\n",
        "      <td> 5649410638903176797</td>\n",
        "    </tr>\n",
        "    <tr>\n",
        "      <th>5    </th>\n",
        "      <td> 20130901</td>\n",
        "      <td> 3410231573732347172</td>\n",
        "      <td> 444000000</td>\n",
        "      <td>  1</td>\n",
        "      <td> 3410231573732347172</td>\n",
        "    </tr>\n",
        "    <tr>\n",
        "      <th>6    </th>\n",
        "      <td> 20130901</td>\n",
        "      <td> 2631717624041655534</td>\n",
        "      <td>  20000000</td>\n",
        "      <td>  1</td>\n",
        "      <td> 2631717624041655534</td>\n",
        "    </tr>\n",
        "    <tr>\n",
        "      <th>7    </th>\n",
        "      <td> 20130901</td>\n",
        "      <td> 2631717624041655534</td>\n",
        "      <td>   1000000</td>\n",
        "      <td>  6</td>\n",
        "      <td> 2631717624041655534</td>\n",
        "    </tr>\n",
        "    <tr>\n",
        "      <th>8    </th>\n",
        "      <td> 20130901</td>\n",
        "      <td> 2631717624041655534</td>\n",
        "      <td>  20000000</td>\n",
        "      <td>  1</td>\n",
        "      <td> 2631717624041655534</td>\n",
        "    </tr>\n",
        "    <tr>\n",
        "      <th>9    </th>\n",
        "      <td> 20130901</td>\n",
        "      <td> 7830377151863165288</td>\n",
        "      <td>   1000000</td>\n",
        "      <td>  2</td>\n",
        "      <td> 7830377151863165288</td>\n",
        "    </tr>\n",
        "    <tr>\n",
        "      <th>10   </th>\n",
        "      <td> 20130901</td>\n",
        "      <td> 2774361227472829232</td>\n",
        "      <td>   5000000</td>\n",
        "      <td>  1</td>\n",
        "      <td> 2774361227472829232</td>\n",
        "    </tr>\n",
        "    <tr>\n",
        "      <th>11   </th>\n",
        "      <td> 20130901</td>\n",
        "      <td> 5859937342909028762</td>\n",
        "      <td>   1000000</td>\n",
        "      <td>  5</td>\n",
        "      <td> 5859937342909028762</td>\n",
        "    </tr>\n",
        "    <tr>\n",
        "      <th>12   </th>\n",
        "      <td> 20130901</td>\n",
        "      <td> 1055511518862599539</td>\n",
        "      <td> 149000000</td>\n",
        "      <td>  1</td>\n",
        "      <td> 1055511518862599539</td>\n",
        "    </tr>\n",
        "    <tr>\n",
        "      <th>13   </th>\n",
        "      <td> 20130901</td>\n",
        "      <td> 3280784661045024555</td>\n",
        "      <td> 509000000</td>\n",
        "      <td>  1</td>\n",
        "      <td> 3280784661045024555</td>\n",
        "    </tr>\n",
        "    <tr>\n",
        "      <th>14   </th>\n",
        "      <td> 20130901</td>\n",
        "      <td> 1275658056258249132</td>\n",
        "      <td>  10000000</td>\n",
        "      <td>  2</td>\n",
        "      <td> 1275658056258249132</td>\n",
        "    </tr>\n",
        "    <tr>\n",
        "      <th>15   </th>\n",
        "      <td> 20130901</td>\n",
        "      <td> 2108319255650074085</td>\n",
        "      <td>   1000000</td>\n",
        "      <td>  1</td>\n",
        "      <td> 2108319255650074085</td>\n",
        "    </tr>\n",
        "    <tr>\n",
        "      <th>16   </th>\n",
        "      <td> 20130901</td>\n",
        "      <td>   55436883729251910</td>\n",
        "      <td>  25000000</td>\n",
        "      <td>  1</td>\n",
        "      <td>   55436883729251910</td>\n",
        "    </tr>\n",
        "    <tr>\n",
        "      <th>17   </th>\n",
        "      <td> 20130901</td>\n",
        "      <td> 7683852547263761514</td>\n",
        "      <td>  11000000</td>\n",
        "      <td>  1</td>\n",
        "      <td> 7683852547263761514</td>\n",
        "    </tr>\n",
        "    <tr>\n",
        "      <th>18   </th>\n",
        "      <td> 20130901</td>\n",
        "      <td> 3154069716925111735</td>\n",
        "      <td>   1000000</td>\n",
        "      <td>  1</td>\n",
        "      <td> 3154069716925111735</td>\n",
        "    </tr>\n",
        "    <tr>\n",
        "      <th>19   </th>\n",
        "      <td> 20130901</td>\n",
        "      <td> 4624566386207948152</td>\n",
        "      <td>   1000000</td>\n",
        "      <td>  7</td>\n",
        "      <td> 4624566386207948152</td>\n",
        "    </tr>\n",
        "    <tr>\n",
        "      <th>20   </th>\n",
        "      <td> 20130901</td>\n",
        "      <td> 6026378406644647738</td>\n",
        "      <td>  11000000</td>\n",
        "      <td>  2</td>\n",
        "      <td> 6026378406644647738</td>\n",
        "    </tr>\n",
        "    <tr>\n",
        "      <th>21   </th>\n",
        "      <td> 20130901</td>\n",
        "      <td> 6898450895959445827</td>\n",
        "      <td>   1000000</td>\n",
        "      <td> 10</td>\n",
        "      <td> 6898450895959445827</td>\n",
        "    </tr>\n",
        "    <tr>\n",
        "      <th>22   </th>\n",
        "      <td> 20130901</td>\n",
        "      <td> 6026378406644647738</td>\n",
        "      <td>   1000000</td>\n",
        "      <td> 11</td>\n",
        "      <td> 6026378406644647738</td>\n",
        "    </tr>\n",
        "    <tr>\n",
        "      <th>23   </th>\n",
        "      <td> 20130901</td>\n",
        "      <td> 5918738258394835852</td>\n",
        "      <td>  10000000</td>\n",
        "      <td>  1</td>\n",
        "      <td> 5918738258394835852</td>\n",
        "    </tr>\n",
        "    <tr>\n",
        "      <th>24   </th>\n",
        "      <td> 20130901</td>\n",
        "      <td> 7282833112988596763</td>\n",
        "      <td>  42000000</td>\n",
        "      <td>  3</td>\n",
        "      <td> 7282833112988596763</td>\n",
        "    </tr>\n",
        "    <tr>\n",
        "      <th>25   </th>\n",
        "      <td> 20130901</td>\n",
        "      <td>  157643546162319301</td>\n",
        "      <td>  27000000</td>\n",
        "      <td>  1</td>\n",
        "      <td>  157643546162319301</td>\n",
        "    </tr>\n",
        "    <tr>\n",
        "      <th>26   </th>\n",
        "      <td> 20130901</td>\n",
        "      <td> 9132006019283711833</td>\n",
        "      <td> 100000000</td>\n",
        "      <td>  3</td>\n",
        "      <td> 9132006019283711833</td>\n",
        "    </tr>\n",
        "    <tr>\n",
        "      <th>27   </th>\n",
        "      <td> 20130901</td>\n",
        "      <td> 7920028692882080932</td>\n",
        "      <td>   5000000</td>\n",
        "      <td>  1</td>\n",
        "      <td> 7920028692882080932</td>\n",
        "    </tr>\n",
        "    <tr>\n",
        "      <th>28   </th>\n",
        "      <td> 20130901</td>\n",
        "      <td>  650433258888284329</td>\n",
        "      <td>   1000000</td>\n",
        "      <td>  1</td>\n",
        "      <td>  650433258888284329</td>\n",
        "    </tr>\n",
        "    <tr>\n",
        "      <th>29   </th>\n",
        "      <td> 20130901</td>\n",
        "      <td> 6302018494189983981</td>\n",
        "      <td>  28000000</td>\n",
        "      <td>  1</td>\n",
        "      <td> 6302018494189983981</td>\n",
        "    </tr>\n",
        "    <tr>\n",
        "      <th>...</th>\n",
        "      <td>...</td>\n",
        "      <td>...</td>\n",
        "      <td>...</td>\n",
        "      <td>...</td>\n",
        "      <td>...</td>\n",
        "    </tr>\n",
        "    <tr>\n",
        "      <th>10432</th>\n",
        "      <td> 20140526</td>\n",
        "      <td> 8025160601706524319</td>\n",
        "      <td>  49000000</td>\n",
        "      <td>  3</td>\n",
        "      <td> 8025160601706524319</td>\n",
        "    </tr>\n",
        "    <tr>\n",
        "      <th>10433</th>\n",
        "      <td> 20140527</td>\n",
        "      <td> 1874102989508323951</td>\n",
        "      <td>  10000000</td>\n",
        "      <td>  2</td>\n",
        "      <td> 1874102989508323951</td>\n",
        "    </tr>\n",
        "    <tr>\n",
        "      <th>10434</th>\n",
        "      <td> 20140527</td>\n",
        "      <td> 9049231485410089146</td>\n",
        "      <td>  15000000</td>\n",
        "      <td>  1</td>\n",
        "      <td> 9049231485410089146</td>\n",
        "    </tr>\n",
        "    <tr>\n",
        "      <th>10435</th>\n",
        "      <td> 20140528</td>\n",
        "      <td> 1255600670655524615</td>\n",
        "      <td>  10000000</td>\n",
        "      <td>  3</td>\n",
        "      <td> 1255600670655524615</td>\n",
        "    </tr>\n",
        "    <tr>\n",
        "      <th>10436</th>\n",
        "      <td> 20140528</td>\n",
        "      <td> 8698262138258819528</td>\n",
        "      <td>  15000000</td>\n",
        "      <td> 10</td>\n",
        "      <td> 8698262138258819528</td>\n",
        "    </tr>\n",
        "    <tr>\n",
        "      <th>10437</th>\n",
        "      <td> 20140528</td>\n",
        "      <td> 6858993894700495383</td>\n",
        "      <td>  59000000</td>\n",
        "      <td>  1</td>\n",
        "      <td> 6858993894700495383</td>\n",
        "    </tr>\n",
        "    <tr>\n",
        "      <th>10438</th>\n",
        "      <td> 20140528</td>\n",
        "      <td> 4702691274386673393</td>\n",
        "      <td>  10000000</td>\n",
        "      <td> 24</td>\n",
        "      <td> 4702691274386673393</td>\n",
        "    </tr>\n",
        "    <tr>\n",
        "      <th>10439</th>\n",
        "      <td> 20140529</td>\n",
        "      <td> 4228812934025187576</td>\n",
        "      <td>   3000000</td>\n",
        "      <td>  3</td>\n",
        "      <td> 4228812934025187576</td>\n",
        "    </tr>\n",
        "    <tr>\n",
        "      <th>10440</th>\n",
        "      <td> 20140529</td>\n",
        "      <td> 3744344230809154301</td>\n",
        "      <td>  79000000</td>\n",
        "      <td>  1</td>\n",
        "      <td> 3744344230809154301</td>\n",
        "    </tr>\n",
        "    <tr>\n",
        "      <th>10441</th>\n",
        "      <td> 20140529</td>\n",
        "      <td> 1404620827347686004</td>\n",
        "      <td>  15000000</td>\n",
        "      <td>  9</td>\n",
        "      <td> 1404620827347686004</td>\n",
        "    </tr>\n",
        "    <tr>\n",
        "      <th>10442</th>\n",
        "      <td> 20140530</td>\n",
        "      <td> 5222967532267351508</td>\n",
        "      <td>   5000000</td>\n",
        "      <td>  2</td>\n",
        "      <td> 5222967532267351508</td>\n",
        "    </tr>\n",
        "    <tr>\n",
        "      <th>10443</th>\n",
        "      <td> 20140530</td>\n",
        "      <td> 8356374134383735521</td>\n",
        "      <td>   1000000</td>\n",
        "      <td>  6</td>\n",
        "      <td> 8356374134383735521</td>\n",
        "    </tr>\n",
        "    <tr>\n",
        "      <th>10444</th>\n",
        "      <td> 20140530</td>\n",
        "      <td> 7037672424068133319</td>\n",
        "      <td>  49000000</td>\n",
        "      <td>  1</td>\n",
        "      <td> 7037672424068133319</td>\n",
        "    </tr>\n",
        "    <tr>\n",
        "      <th>10445</th>\n",
        "      <td> 20140530</td>\n",
        "      <td> 2600899653145729529</td>\n",
        "      <td>   5000000</td>\n",
        "      <td>  4</td>\n",
        "      <td> 2600899653145729529</td>\n",
        "    </tr>\n",
        "    <tr>\n",
        "      <th>10446</th>\n",
        "      <td> 20140530</td>\n",
        "      <td> 7037672424068133319</td>\n",
        "      <td>  80000000</td>\n",
        "      <td>  1</td>\n",
        "      <td> 7037672424068133319</td>\n",
        "    </tr>\n",
        "    <tr>\n",
        "      <th>10447</th>\n",
        "      <td> 20140530</td>\n",
        "      <td> 1404620827347686004</td>\n",
        "      <td>   5000000</td>\n",
        "      <td>  2</td>\n",
        "      <td> 1404620827347686004</td>\n",
        "    </tr>\n",
        "    <tr>\n",
        "      <th>10448</th>\n",
        "      <td> 20140530</td>\n",
        "      <td> 8698262138258819528</td>\n",
        "      <td>   1000000</td>\n",
        "      <td>  9</td>\n",
        "      <td> 8698262138258819528</td>\n",
        "    </tr>\n",
        "    <tr>\n",
        "      <th>10449</th>\n",
        "      <td> 20140530</td>\n",
        "      <td> 3562456257063611239</td>\n",
        "      <td> 600000000</td>\n",
        "      <td>  2</td>\n",
        "      <td> 3562456257063611239</td>\n",
        "    </tr>\n",
        "    <tr>\n",
        "      <th>10450</th>\n",
        "      <td> 20140530</td>\n",
        "      <td> 3562456257063611239</td>\n",
        "      <td>  33000000</td>\n",
        "      <td>  1</td>\n",
        "      <td> 3562456257063611239</td>\n",
        "    </tr>\n",
        "    <tr>\n",
        "      <th>10451</th>\n",
        "      <td> 20140530</td>\n",
        "      <td> 1404620827347686004</td>\n",
        "      <td>   5000000</td>\n",
        "      <td>  2</td>\n",
        "      <td> 1404620827347686004</td>\n",
        "    </tr>\n",
        "    <tr>\n",
        "      <th>10452</th>\n",
        "      <td> 20140531</td>\n",
        "      <td> 8698262138258819528</td>\n",
        "      <td> 200000000</td>\n",
        "      <td> 19</td>\n",
        "      <td> 8698262138258819528</td>\n",
        "    </tr>\n",
        "    <tr>\n",
        "      <th>10453</th>\n",
        "      <td> 20140601</td>\n",
        "      <td>  862250252674415725</td>\n",
        "      <td>   5000000</td>\n",
        "      <td>  1</td>\n",
        "      <td>  862250252674415725</td>\n",
        "    </tr>\n",
        "    <tr>\n",
        "      <th>10454</th>\n",
        "      <td> 20140601</td>\n",
        "      <td>  862250252674415725</td>\n",
        "      <td>  40000000</td>\n",
        "      <td>  1</td>\n",
        "      <td>  862250252674415725</td>\n",
        "    </tr>\n",
        "    <tr>\n",
        "      <th>10455</th>\n",
        "      <td> 20140601</td>\n",
        "      <td> 7828833166956017323</td>\n",
        "      <td>  80000000</td>\n",
        "      <td>  1</td>\n",
        "      <td> 7828833166956017323</td>\n",
        "    </tr>\n",
        "    <tr>\n",
        "      <th>10456</th>\n",
        "      <td> 20140601</td>\n",
        "      <td> 3997084175502461792</td>\n",
        "      <td>   2000000</td>\n",
        "      <td>  6</td>\n",
        "      <td> 3997084175502461792</td>\n",
        "    </tr>\n",
        "    <tr>\n",
        "      <th>10457</th>\n",
        "      <td> 20140601</td>\n",
        "      <td> 7828833166956017323</td>\n",
        "      <td> 100000000</td>\n",
        "      <td>  1</td>\n",
        "      <td> 7828833166956017323</td>\n",
        "    </tr>\n",
        "    <tr>\n",
        "      <th>10458</th>\n",
        "      <td> 20140601</td>\n",
        "      <td> 8356374134383735521</td>\n",
        "      <td>   5000000</td>\n",
        "      <td> 19</td>\n",
        "      <td> 8356374134383735521</td>\n",
        "    </tr>\n",
        "    <tr>\n",
        "      <th>10459</th>\n",
        "      <td> 20140601</td>\n",
        "      <td> 1404620827347686004</td>\n",
        "      <td>   1000000</td>\n",
        "      <td>  1</td>\n",
        "      <td> 1404620827347686004</td>\n",
        "    </tr>\n",
        "    <tr>\n",
        "      <th>10460</th>\n",
        "      <td> 20140601</td>\n",
        "      <td> 8698262138258819528</td>\n",
        "      <td>  16000000</td>\n",
        "      <td>  2</td>\n",
        "      <td> 8698262138258819528</td>\n",
        "    </tr>\n",
        "    <tr>\n",
        "      <th>10461</th>\n",
        "      <td> 20140601</td>\n",
        "      <td> 8698262138258819528</td>\n",
        "      <td>   5000000</td>\n",
        "      <td>  1</td>\n",
        "      <td> 8698262138258819528</td>\n",
        "    </tr>\n",
        "  </tbody>\n",
        "</table>\n",
        "<p>10462 rows \u00d7 5 columns</p>\n",
        "</div>"
       ],
       "metadata": {},
       "output_type": "pyout",
       "prompt_number": 9,
       "text": [
        "         a_date      a_fullVisitorId  a_totals_transactionRevenue  \\\n",
        "0      20130901  1761427103773039371                     15000000   \n",
        "1      20130901    81788324861404386                      5000000   \n",
        "2      20130901   800978008711306585                    910000000   \n",
        "3      20130901   800978008711306585                     28000000   \n",
        "4      20130901  5649410638903176797                      1000000   \n",
        "5      20130901  3410231573732347172                    444000000   \n",
        "6      20130901  2631717624041655534                     20000000   \n",
        "7      20130901  2631717624041655534                      1000000   \n",
        "8      20130901  2631717624041655534                     20000000   \n",
        "9      20130901  7830377151863165288                      1000000   \n",
        "10     20130901  2774361227472829232                      5000000   \n",
        "11     20130901  5859937342909028762                      1000000   \n",
        "12     20130901  1055511518862599539                    149000000   \n",
        "13     20130901  3280784661045024555                    509000000   \n",
        "14     20130901  1275658056258249132                     10000000   \n",
        "15     20130901  2108319255650074085                      1000000   \n",
        "16     20130901    55436883729251910                     25000000   \n",
        "17     20130901  7683852547263761514                     11000000   \n",
        "18     20130901  3154069716925111735                      1000000   \n",
        "19     20130901  4624566386207948152                      1000000   \n",
        "20     20130901  6026378406644647738                     11000000   \n",
        "21     20130901  6898450895959445827                      1000000   \n",
        "22     20130901  6026378406644647738                      1000000   \n",
        "23     20130901  5918738258394835852                     10000000   \n",
        "24     20130901  7282833112988596763                     42000000   \n",
        "25     20130901   157643546162319301                     27000000   \n",
        "26     20130901  9132006019283711833                    100000000   \n",
        "27     20130901  7920028692882080932                      5000000   \n",
        "28     20130901   650433258888284329                      1000000   \n",
        "29     20130901  6302018494189983981                     28000000   \n",
        "...         ...                  ...                          ...   \n",
        "10432  20140526  8025160601706524319                     49000000   \n",
        "10433  20140527  1874102989508323951                     10000000   \n",
        "10434  20140527  9049231485410089146                     15000000   \n",
        "10435  20140528  1255600670655524615                     10000000   \n",
        "10436  20140528  8698262138258819528                     15000000   \n",
        "10437  20140528  6858993894700495383                     59000000   \n",
        "10438  20140528  4702691274386673393                     10000000   \n",
        "10439  20140529  4228812934025187576                      3000000   \n",
        "10440  20140529  3744344230809154301                     79000000   \n",
        "10441  20140529  1404620827347686004                     15000000   \n",
        "10442  20140530  5222967532267351508                      5000000   \n",
        "10443  20140530  8356374134383735521                      1000000   \n",
        "10444  20140530  7037672424068133319                     49000000   \n",
        "10445  20140530  2600899653145729529                      5000000   \n",
        "10446  20140530  7037672424068133319                     80000000   \n",
        "10447  20140530  1404620827347686004                      5000000   \n",
        "10448  20140530  8698262138258819528                      1000000   \n",
        "10449  20140530  3562456257063611239                    600000000   \n",
        "10450  20140530  3562456257063611239                     33000000   \n",
        "10451  20140530  1404620827347686004                      5000000   \n",
        "10452  20140531  8698262138258819528                    200000000   \n",
        "10453  20140601   862250252674415725                      5000000   \n",
        "10454  20140601   862250252674415725                     40000000   \n",
        "10455  20140601  7828833166956017323                     80000000   \n",
        "10456  20140601  3997084175502461792                      2000000   \n",
        "10457  20140601  7828833166956017323                    100000000   \n",
        "10458  20140601  8356374134383735521                      5000000   \n",
        "10459  20140601  1404620827347686004                      1000000   \n",
        "10460  20140601  8698262138258819528                     16000000   \n",
        "10461  20140601  8698262138258819528                      5000000   \n",
        "\n",
        "       a_totals_transactions      b_fullVisitorId  \n",
        "0                          1  1761427103773039371  \n",
        "1                          1    81788324861404386  \n",
        "2                          1   800978008711306585  \n",
        "3                          3   800978008711306585  \n",
        "4                          4  5649410638903176797  \n",
        "5                          1  3410231573732347172  \n",
        "6                          1  2631717624041655534  \n",
        "7                          6  2631717624041655534  \n",
        "8                          1  2631717624041655534  \n",
        "9                          2  7830377151863165288  \n",
        "10                         1  2774361227472829232  \n",
        "11                         5  5859937342909028762  \n",
        "12                         1  1055511518862599539  \n",
        "13                         1  3280784661045024555  \n",
        "14                         2  1275658056258249132  \n",
        "15                         1  2108319255650074085  \n",
        "16                         1    55436883729251910  \n",
        "17                         1  7683852547263761514  \n",
        "18                         1  3154069716925111735  \n",
        "19                         7  4624566386207948152  \n",
        "20                         2  6026378406644647738  \n",
        "21                        10  6898450895959445827  \n",
        "22                        11  6026378406644647738  \n",
        "23                         1  5918738258394835852  \n",
        "24                         3  7282833112988596763  \n",
        "25                         1   157643546162319301  \n",
        "26                         3  9132006019283711833  \n",
        "27                         1  7920028692882080932  \n",
        "28                         1   650433258888284329  \n",
        "29                         1  6302018494189983981  \n",
        "...                      ...                  ...  \n",
        "10432                      3  8025160601706524319  \n",
        "10433                      2  1874102989508323951  \n",
        "10434                      1  9049231485410089146  \n",
        "10435                      3  1255600670655524615  \n",
        "10436                     10  8698262138258819528  \n",
        "10437                      1  6858993894700495383  \n",
        "10438                     24  4702691274386673393  \n",
        "10439                      3  4228812934025187576  \n",
        "10440                      1  3744344230809154301  \n",
        "10441                      9  1404620827347686004  \n",
        "10442                      2  5222967532267351508  \n",
        "10443                      6  8356374134383735521  \n",
        "10444                      1  7037672424068133319  \n",
        "10445                      4  2600899653145729529  \n",
        "10446                      1  7037672424068133319  \n",
        "10447                      2  1404620827347686004  \n",
        "10448                      9  8698262138258819528  \n",
        "10449                      2  3562456257063611239  \n",
        "10450                      1  3562456257063611239  \n",
        "10451                      2  1404620827347686004  \n",
        "10452                     19  8698262138258819528  \n",
        "10453                      1   862250252674415725  \n",
        "10454                      1   862250252674415725  \n",
        "10455                      1  7828833166956017323  \n",
        "10456                      6  3997084175502461792  \n",
        "10457                      1  7828833166956017323  \n",
        "10458                     19  8356374134383735521  \n",
        "10459                      1  1404620827347686004  \n",
        "10460                      2  8698262138258819528  \n",
        "10461                      1  8698262138258819528  \n",
        "\n",
        "[10462 rows x 5 columns]"
       ]
      }
     ],
     "prompt_number": 9
    },
    {
     "cell_type": "heading",
     "level": 2,
     "metadata": {},
     "source": [
      "Building the Model in R"
     ]
    },
    {
     "cell_type": "markdown",
     "metadata": {},
     "source": [
      "Now that the data needed for the model is loaded into the notebook, R is used to build a model of customer behavior. This model will then be used to calculate CLV and related metrics. The [BTYD R package](http://cran.r-project.org/package=BTYD) will be used to run the Pareto/NBD Buy 'Til You Die (BTYD) model first\n",
      "introduced by [Schmittlein, Morrison, and Colombo](http://www.jstor.org/discover/10.2307/2631608?uid=3739584&uid=2129&uid=2&uid=70&uid=4&uid=3739256&sid=21105176808473) and later popularized by [Fader, Hardie, and Lee](http://brucehardie.com/papers/bgnbd_2004-04-20.pdf). TODO: add overview of Pareto/NBD"
     ]
    },
    {
     "cell_type": "heading",
     "level": 3,
     "metadata": {},
     "source": [
      "R Setup"
     ]
    },
    {
     "cell_type": "markdown",
     "metadata": {},
     "source": [
      "If you do not already have R and rpy2 installed, do so now:"
     ]
    },
    {
     "cell_type": "code",
     "collapsed": false,
     "input": [
      "%%bash\n",
      "apt-get update\n",
      "apt-get install r-base-dev -y\n",
      "apt-get install python-rpy2 -y"
     ],
     "language": "python",
     "metadata": {},
     "outputs": [
      {
       "output_type": "stream",
       "stream": "stdout",
       "text": [
        "Hit http://security.debian.org jessie/updates InRelease\n",
        "Get:1 http://ftp.us.debian.org testing InRelease [191 kB]\n",
        "Hit http://security.debian.org jessie/updates/main amd64 Packages\n",
        "Get:2 http://http.debian.net jessie InRelease [191 kB]\n",
        "Get:3 http://ftp.us.debian.org testing/main Sources [9270 kB]\n",
        "Get:4 http://http.debian.net jessie-updates InRelease [117 kB]\n",
        "Get:5 http://http.debian.net jessie/main amd64 Packages [9088 kB]\n",
        "Get:6 http://http.debian.net jessie-updates/main amd64 Packages [20 B]\n",
        "Fetched 18.9 MB in 4s (4194 kB/s)\n",
        "Reading package lists...\n",
        "Reading package lists...\n",
        "Building dependency tree...\n",
        "Reading state information...\n",
        "r-base-dev is already the newest version.\n",
        "0 upgraded, 0 newly installed, 0 to remove and 174 not upgraded.\n",
        "Reading package lists...\n",
        "Building dependency tree...\n",
        "Reading state information...\n",
        "python-rpy2 is already the newest version.\n",
        "0 upgraded, 0 newly installed, 0 to remove and 174 not upgraded.\n"
       ]
      }
     ],
     "prompt_number": 184
    },
    {
     "cell_type": "markdown",
     "metadata": {},
     "source": [
      "Now load rpy2"
     ]
    },
    {
     "cell_type": "code",
     "collapsed": false,
     "input": [
      "%load_ext rpy2.ipython"
     ],
     "language": "python",
     "metadata": {},
     "outputs": [],
     "prompt_number": 12
    },
    {
     "cell_type": "markdown",
     "metadata": {},
     "source": [
      "Install the [BTYD R Package](http://cran.r-project.org/web/packages/BTYD/index.html)"
     ]
    },
    {
     "cell_type": "code",
     "collapsed": false,
     "input": [
      "%%R\n",
      "install.packages('BTYD', repos='http://cran.us.r-project.org', dependencies=TRUE)\n",
      "library(BTYD)"
     ],
     "language": "python",
     "metadata": {},
     "outputs": [
      {
       "metadata": {},
       "output_type": "display_data",
       "text": [
        "Installing package into '/usr/local/lib/R/site-library'\n",
        "(as 'lib' is unspecified)\n",
        "trying URL 'http://cran.us.r-project.org/src/contrib/BTYD_2.4.tar.gz'\n",
        "Content type 'application/x-gzip' length 692236 bytes (676 Kb)\n",
        "opened URL\n",
        "==================================================\n",
        "downloaded 676 Kb\n",
        "\n",
        "\n",
        "The downloaded source packages are in\n",
        "\t'/tmp/Rtmpa59KdW/downloaded_packages'\n",
        "Loading required package: hypergeo\n"
       ]
      }
     ],
     "prompt_number": 15
    },
    {
     "cell_type": "heading",
     "level": 3,
     "metadata": {},
     "source": [
      "Run the Model"
     ]
    },
    {
     "cell_type": "markdown",
     "metadata": {},
     "source": [
      "In order to run the BTYD models, import the data from BigQuery into R."
     ]
    },
    {
     "cell_type": "code",
     "collapsed": false,
     "input": [
      "import pandas\n",
      "df = pandas.DataFrame(event_log_data)\n",
      "#dataframe = com.convert_to_r_dataframe(df)"
     ],
     "language": "python",
     "metadata": {},
     "outputs": [],
     "prompt_number": 10
    },
    {
     "cell_type": "code",
     "collapsed": false,
     "input": [
      "%Rpush df"
     ],
     "language": "python",
     "metadata": {},
     "outputs": [],
     "prompt_number": 13
    },
    {
     "cell_type": "markdown",
     "metadata": {},
     "source": [
      "The code below prepares the data for the Pareto/NBD, runs the model, and then prints out the parameter estimates. Running the model may take a few minutes"
     ]
    },
    {
     "cell_type": "code",
     "collapsed": false,
     "input": [
      "%%R\n",
      "\n",
      "head(df)"
     ],
     "language": "python",
     "metadata": {},
     "outputs": [
      {
       "metadata": {},
       "output_type": "display_data",
       "text": [
        "    a_date     a_fullVisitorId a_totals_transactionRevenue\n",
        "1 20140101 6691278106155777927                     1000000\n",
        "2 20140101 5035634587972412201                     1000000\n",
        "3 20140101  798728884672787212                     1000000\n",
        "4 20140101 1536304984214463520                    24000000\n",
        "5 20140101 1690046877627854326                    69000000\n",
        "6 20140101 6900719867062903031                    25000000\n",
        "  a_totals_transactions     b_fullVisitorId\n",
        "1                     1 6691278106155777927\n",
        "2                     2 5035634587972412201\n",
        "3                     1  798728884672787212\n",
        "4                     1 1536304984214463520\n",
        "5                     2 1690046877627854326\n",
        "6                     1 6900719867062903031\n"
       ]
      }
     ],
     "prompt_number": 15
    },
    {
     "cell_type": "code",
     "collapsed": false,
     "input": [
      "%%R -i start_date,end_date,cohort_end_date,end_of_cal_period\n",
      "\n",
      "elog <- data.frame(cust = df$a_fullVisitorId , date = df$a_date, sales = df$a_totals_transactionRevenue)\n",
      "elog$sales <- elog$sales / 10^6\n",
      "\n",
      "# format dates\n",
      "elog$date <- as.Date(elog$date, \"%Y%m%d\")\n",
      "\n",
      "# set key dates\n",
      "end.of.cal.period <- as.Date(end_of_cal_period)\n",
      "T.end <- max(elog$date)\n",
      "T.star <- as.numeric(T.end - end.of.cal.period)\n",
      "T.tot <- as.numeric(max(elog$date) - min(elog$date))\n",
      "\n",
      "dataset <- dc.ElogToCbsCbt(elog, per=\"day\", \n",
      "  T.cal=end.of.cal.period)\n",
      "\n",
      "# estimate model\n",
      "cal.cbs <- dataset[[\"cal\"]][[\"cbs\"]]\n",
      "params <- pnbd.EstimateParameters(cal.cbs)\n",
      "\n",
      "print(params)"
     ],
     "language": "python",
     "metadata": {},
     "outputs": [
      {
       "metadata": {},
       "output_type": "display_data",
       "text": [
        "Started making CBS and CBT from the ELOG...\n",
        "...Completed Freq CBT\n",
        "Finished filtering out customers not in the birth period.\n",
        "No dissipation requested.\n",
        "Started merging same-date transactions...\n",
        "... Finished merging same-date transactions.\n",
        "Started Creating Repeat Purchases\n",
        "Finished Creating Repeat Purchases\n",
        "Started Building CBS and CBT for calibration period...\n",
        "Started Building CBT...\n",
        "...Completed Freq CBT\n",
        "Started Building CBT...\n",
        "...Completed Freq CBT\n",
        "Started making calibration period CBS...\n",
        "Finished building CBS.\n",
        "Finished building CBS and CBT for calibration period.\n",
        "Started building CBS and CBT for holdout period...\n",
        "Started Building CBT...\n",
        "...Completed Freq CBT\n",
        "Started making holdout period CBS...\n",
        "Finished building CBS.\n",
        "Finished building CBS and CBT for holdout.\n",
        "...Finished Making All CBS and CBT\n",
        "[1] 0.4443483 5.4219600 0.9318058 6.2727945\n"
       ]
      }
     ],
     "prompt_number": 16
    },
    {
     "cell_type": "code",
     "collapsed": false,
     "input": [
      "%%R\n",
      "estimateParetoNbd <- function(start_date=start_date, end_date=end_date, cohort_end_date=cohort_end_date, \n",
      "                              end_of_cal_period=end_of_cal_period) {\n",
      "    end.of.cal.period <- as.Date(end_of_cal_period)\n",
      "    T.end <- max(elog$date)\n",
      "    T.star <- as.numeric(T.end - end.of.cal.period)\n",
      "    T.tot <- as.numeric(max(elog$date) - min(elog$date))\n",
      "\n",
      "    dataset <- dc.ElogToCbsCbt(elog, per=\"day\", \n",
      "      T.cal=end.of.cal.period)\n",
      "\n",
      "    # estimate model\n",
      "    cal.cbs <- dataset[[\"cal\"]][[\"cbs\"]]\n",
      "    params <- pnbd.EstimateParameters(cal.cbs)\n",
      "\n",
      "    print(params)\n",
      "    \n",
      "    return(list(params=params, dataset=dataset))\n",
      "}"
     ],
     "language": "python",
     "metadata": {},
     "outputs": [],
     "prompt_number": 31
    },
    {
     "cell_type": "heading",
     "level": 3,
     "metadata": {},
     "source": [
      "Assess Model Fit"
     ]
    },
    {
     "cell_type": "markdown",
     "metadata": {},
     "source": [
      "Before using the model to make forecasts, model fit should be assessed. This can be done using the [Mean Absolute Percentage Error](http://en.wikipedia.org/wiki/Mean_absolute_percentage_error) (MAPE). "
     ]
    },
    {
     "cell_type": "code",
     "collapsed": false,
     "input": [
      "%%R\n",
      "mape <- function(actual, forecasted) {\n",
      "    n <- length(actual)\n",
      "    (1/n) * sum(abs((actual - forecasted) / actual))\n",
      "}"
     ],
     "language": "python",
     "metadata": {},
     "outputs": [],
     "prompt_number": 17
    },
    {
     "cell_type": "code",
     "collapsed": false,
     "input": [
      "%%R\n",
      "# calculate incremental and cumulative vectors\n",
      "T.cal <- cal.cbs[,3]\n",
      "actual.inc.tracking.data <- cbind(dataset[['cal']][['cbt']], \n",
      "  dataset[['holdout']][['cbt']])\n",
      "actual.inc.tracking.data <- apply(actual.inc.tracking.data, 2, sum)\n",
      "actual.cum.tracking.data <- cumsum(actual.inc.tracking.data)\n",
      "expected.cum.trans <- pnbd.ExpectedCumulativeTransactions(params, T.cal, T.tot, length(actual.cum.tracking.data))\n",
      "\n",
      "# find end of calibration date\n",
      "end.of.cal.day <- as.numeric(end.of.cal.period - min(elog$date))\n",
      "\n",
      "total.mape <- mape(actual.cum.tracking.data, expected.cum.trans)\n",
      "in.sample.mape <- mape(actual.cum.tracking.data[1:end.of.cal.day], expected.cum.trans[1:end.of.cal.day])\n",
      "out.of.sample.mape <- mape(actual.cum.tracking.data[end.of.cal.day:T.tot], expected.cum.trans[end.of.cal.day:T.tot])\n",
      "mape.outputs <- data.frame(\"MAPE\"=c(in.sample.mape, out.of.sample.mape, total.mape))\n",
      "row.names(mape.outputs) <- c(\"In sample\", \"Out of sample\", \"Total\")\n",
      "print(mape.outputs)"
     ],
     "language": "python",
     "metadata": {},
     "outputs": [
      {
       "metadata": {},
       "output_type": "display_data",
       "text": [
        "                    MAPE\n",
        "In sample     0.03283638\n",
        "Out of sample 0.04244722\n",
        "Total         0.03767175\n"
       ]
      }
     ],
     "prompt_number": 18
    },
    {
     "cell_type": "markdown",
     "metadata": {},
     "source": [
      "While there are no steadfast rules for assessing model fit, a general heuristic is a MAPE of less than 10% is a good model fit, between 10-20% is cause for concern, and above 20% is a bad model fit. \n",
      "\n",
      "At this point, if you are confident in the model fit based on the MAPE calculation, you may continue to the [Compute Model Outputs](#Compute-Model-Outputs) section. If you are not confident in the model fit or would like to dig deeper into the model, continue to the Analyze the Model section below. "
     ]
    },
    {
     "cell_type": "heading",
     "level": 3,
     "metadata": {},
     "source": [
      "Analyze the Model"
     ]
    },
    {
     "cell_type": "markdown",
     "metadata": {},
     "source": [
      "Now that the parameters of the Pareto/NBD have been estimated, they can be used to make projections. For example, the code below prints the expected number of transactions for a new customer in one year."
     ]
    },
    {
     "cell_type": "code",
     "collapsed": false,
     "input": [
      "%R print(round(pnbd.Expectation(params, t=365), digits=1))"
     ],
     "language": "python",
     "metadata": {},
     "outputs": [
      {
       "metadata": {},
       "output_type": "display_data",
       "text": [
        "[1] 2.4\n"
       ]
      }
     ],
     "prompt_number": 19
    },
    {
     "cell_type": "markdown",
     "metadata": {},
     "source": [
      "Model fit can also be assessed graphically. The graph below is a histogram of repeat transactions."
     ]
    },
    {
     "cell_type": "code",
     "collapsed": false,
     "input": [
      "%%R\n",
      "# histogram\n",
      "pnbd.PlotFrequencyInCalibration(params, cal.cbs, 7)"
     ],
     "language": "python",
     "metadata": {},
     "outputs": [
      {
       "metadata": {},
       "output_type": "display_data",
       "text": [
        "         [,1]    [,2]     [,3]     [,4]     [,5]     [,6]     [,7]     [,8]\n",
        "[1,] 1723.000 349.000 156.0000 95.00000 51.00000 38.00000 38.00000 154.0000\n",
        "[2,] 1730.276 341.564 150.8903 86.15212 56.08749 39.56766 29.46998 169.9929\n"
       ]
      },
      {
       "metadata": {},
       "output_type": "display_data",
       "png": "[encoded data removed]"
      }
     ],
     "prompt_number": 20
    },
    {
     "cell_type": "markdown",
     "metadata": {},
     "source": [
      "The following two graphs show cumulative and incremental transactions, respectively, for both the data and as fit by the model. The vertical line separates the calibration period data from the holdout data. "
     ]
    },
    {
     "cell_type": "code",
     "collapsed": false,
     "input": [
      "%%R\n",
      "# cum tracking\n",
      "cum.tracking <- pnbd.PlotTrackingCum(params, T.cal, T.tot,\n",
      "  actual.cum.tracking.data, xlab=\"Day\")"
     ],
     "language": "python",
     "metadata": {},
     "outputs": [
      {
       "metadata": {},
       "output_type": "display_data",
       "png": "[encoded data removed]"
      }
     ],
     "prompt_number": 21
    },
    {
     "cell_type": "code",
     "collapsed": false,
     "input": [
      "%%R\n",
      "# inc tracking\n",
      "inc.tracking <- pnbd.PlotTrackingInc(params, T.cal, T.tot, \n",
      "  actual.inc.tracking.data, xlab=\"Day\", title=\"Tracking Daily Transactions\")"
     ],
     "language": "python",
     "metadata": {},
     "outputs": [
      {
       "metadata": {},
       "output_type": "display_data",
       "png": "[encoded data removed]"
      }
     ],
     "prompt_number": 22
    },
    {
     "cell_type": "markdown",
     "metadata": {},
     "source": [
      "As a final graphical assessment of model fit, the graph below plots actual transactions against conditional expected transactions made by customers in the holdout period, binned by how many transactions the customers made in the calibration period. "
     ]
    },
    {
     "cell_type": "code",
     "collapsed": false,
     "input": [
      "%%R\n",
      "x.star <- dataset$holdout$cbs[,1]\n",
      "censor <- 6\n",
      "cond.expectation <- pnbd.PlotFreqVsConditionalExpectedFrequency(params,\n",
      "    T.star, cal.cbs, dataset$holdout$cbs[,1], censor)\n",
      "cond.expectation    "
     ],
     "language": "python",
     "metadata": {},
     "outputs": [
      {
       "metadata": {},
       "output_type": "display_data",
       "text": [
        "             [,1]        [,2]        [,3]       [,4]       [,5]       [,6]\n",
        "[1,] 5.397562e-02   0.1719198   0.2435897  0.4526316  0.9019608  1.7631579\n",
        "[2,] 1.406349e-02   0.1064772   0.2316178  0.4237836  0.6501126  0.9941313\n",
        "[3,] 1.723000e+03 349.0000000 156.0000000 95.0000000 51.0000000 38.0000000\n",
        "           [,7]\n",
        "[1,]   4.104167\n",
        "[2,]   4.666709\n",
        "[3,] 192.000000\n"
       ]
      },
      {
       "metadata": {},
       "output_type": "display_data",
       "png": "[encoded data removed]"
      }
     ],
     "prompt_number": 24
    },
    {
     "cell_type": "markdown",
     "metadata": {},
     "source": [
      "The MAPE of the conditional expectation plot can be calculated:"
     ]
    },
    {
     "cell_type": "code",
     "collapsed": false,
     "input": [
      "%%R\n",
      "mape.cond.expectation <- (1 / ncol(cond.expectation)) * sum(abs((cond.expectation[1,] - cond.expectation[2,]) / cond.expectation[1,]))\n",
      "mape.cond.expectation"
     ],
     "language": "python",
     "metadata": {},
     "outputs": [
      {
       "metadata": {},
       "output_type": "display_data",
       "text": [
        "[1] 0.2979201\n"
       ]
      }
     ],
     "prompt_number": 25
    },
    {
     "cell_type": "markdown",
     "metadata": {},
     "source": [
      "It is illustrative to view a heatmap of the conditional expected transactions for different recency and frequency values. "
     ]
    },
    {
     "cell_type": "code",
     "collapsed": false,
     "input": [
      "%%R\n",
      "heatmap.palive.data <- matrix(NA, nrow=10, ncol=200)\n",
      "heatmap.cet.data <- matrix(NA, nrow=10, ncol=200)\n",
      "for(i in 1:10) {\n",
      "    heatmap.cet.data[i,] <- pnbd.ConditionalExpectedTransactions(params, T.star=365, x=i, t.x=1:200, T.cal=200)\n",
      "    heatmap.palive.data[i,] <- pnbd.PAlive(params, x=i, t.x=1:200, T.cal=200)\n",
      "}\n",
      "image(heatmap.palive.data, axes=FALSE, xlab=\"Number of Transactions\", ylab=\"Days since last transaction\", main=\"P(Alive) by Recency and Frequency\")\n",
      "axis(1, at=seq(0,1,.1), labels=0:10)\n",
      "axis(2, at=seq(0,1,.1), labels=seq(200,0,-20))\n",
      "\n",
      "image(heatmap.cet.data, axes=FALSE, xlab=\"Number of Transactions\", ylab=\"Days since last transaction\", main=\"Conditional Expected Transactions by Recency and Frequency\")\n",
      "axis(1, at=seq(0,1,.1), labels=0:10)\n",
      "axis(2, at=seq(0,1,.1), labels=seq(200,0,-20))"
     ],
     "language": "python",
     "metadata": {},
     "outputs": [
      {
       "metadata": {},
       "output_type": "display_data",
       "png": "[encoded data removed]"
      },
      {
       "metadata": {},
       "output_type": "display_data",
       "png": "[encoded data removed]"
      }
     ],
     "prompt_number": 26
    },
    {
     "cell_type": "markdown",
     "metadata": {},
     "source": [
      "In order to complete the Customer Lifetime Value calculation, it will be necessary to build a model to forecast how much each customer will spend per transaction. The Gamma / Gamma model to forecast average spend per customer is run below."
     ]
    },
    {
     "cell_type": "code",
     "collapsed": false,
     "input": [
      "%%R\n",
      "#cal.cbt <- dc.CreateSpendCBT(elog, is.avg.spend = FALSE)\n",
      "cal.cbt <- dc.ElogToCbsCbt(elog, per=\"day\", T.cal=end.of.cal.period, cohort.birth.per=as.Date(cohort_end_date), statistic=\"total.spend\")\n",
      "cal.cbs <- cal.cbt$cal$cbs\n",
      "cal.cbt <- cal.cbt$cal$cbt\n",
      "calculateAvgSpend <- function(cbt.row) {\n",
      "    purchaseCols = which(cbt.row != 0)\n",
      "    sum(cbt.row[purchaseCols]) / length(purchaseCols)\n",
      "}\n",
      "\n",
      "m.x <- apply(cal.cbt, 1, calculateAvgSpend)\n",
      "m.x[which(is.na(m.x))] <- 0\n",
      "spendParams <- spend.EstimateParameters(m.x, cal.cbs[,1])\n",
      "print(spendParams)"
     ],
     "language": "python",
     "metadata": {},
     "outputs": [
      {
       "metadata": {},
       "output_type": "display_data",
       "text": [
        "Started making CBS and CBT from the ELOG...\n",
        "...Completed Freq CBT\n",
        "Finished filtering out customers not in the birth period.\n",
        "No dissipation requested.\n",
        "Started merging same-date transactions...\n",
        "... Finished merging same-date transactions.\n",
        "Started Creating Repeat Purchases\n",
        "Finished Creating Repeat Purchases\n",
        "Started Building CBS and CBT for calibration period...\n",
        "Started Building CBT...\n",
        "...Completed Spend CBT\n",
        "Started Building CBT...\n",
        "...Completed Spend CBT\n",
        "Started making calibration period CBS...\n",
        "Finished building CBS.\n",
        "Finished building CBS and CBT for calibration period.\n",
        "Started building CBS and CBT for holdout period...\n",
        "Started Building CBT...\n",
        "...Completed Spend CBT\n",
        "Started making holdout period CBS...\n",
        "Finished building CBS.\n",
        "Finished building CBS and CBT for holdout.\n",
        "...Finished Making All CBS and CBT\n",
        "[1]   0.1163652   1.3320827 411.2171979\n"
       ]
      }
     ],
     "prompt_number": 27
    },
    {
     "cell_type": "code",
     "collapsed": false,
     "input": [
      "%%R \n",
      "expected.spend <- spend.plot.average.transaction.value(spendParams, m.x, cal.cbs[,1], title = \"Actual vs. Expected Avg Transaction Value Across Customers\")"
     ],
     "language": "python",
     "metadata": {},
     "outputs": [
      {
       "metadata": {},
       "output_type": "display_data",
       "png": "[encoded data removed]"
      }
     ],
     "prompt_number": 28
    },
    {
     "cell_type": "code",
     "collapsed": false,
     "input": [
      "%%R\n",
      "mape(m.x[which(m.x > 0)], expected.spend)"
     ],
     "language": "python",
     "metadata": {},
     "outputs": [
      {
       "metadata": {},
       "output_type": "display_data",
       "text": [
        "[1] 0.9948784\n"
       ]
      }
     ],
     "prompt_number": 29
    },
    {
     "cell_type": "heading",
     "level": 2,
     "metadata": {},
     "source": [
      "Compute Model Outputs"
     ]
    },
    {
     "cell_type": "markdown",
     "metadata": {},
     "source": [
      "Once confident in model fit, the model must be rerun using all of the data. In the previous section, the data from the holdout period was used to assess model fit. In order to generate a true forecast, you must run the model on all of the data. Running the model may take a few minutes."
     ]
    },
    {
     "cell_type": "code",
     "collapsed": false,
     "input": [
      "%%R\n",
      "paramsDataset <- estimateParetoNbd(end_of_cal_period=end_date)\n",
      "params <- paramsDataset$params\n",
      "dataset <- paramsDataset$dataset"
     ],
     "language": "python",
     "metadata": {},
     "outputs": [
      {
       "output_type": "stream",
       "stream": "stdout",
       "text": [
        "Started making CBS and CBT from the ELOG...\n",
        "...Completed Freq CBT\n",
        "Finished filtering out customers not in the birth period.\n",
        "No dissipation requested.\n",
        "Started merging same-date transactions...\n",
        "... Finished merging same-date transactions.\n",
        "Started Creating Repeat Purchases\n",
        "Finished Creating Repeat Purchases\n",
        "Started Building CBS and CBT for calibration period...\n",
        "Started Building CBT...\n",
        "...Completed Freq CBT\n",
        "Started Building CBT...\n",
        "...Completed Freq CBT\n",
        "Started making calibration period CBS...\n",
        "Finished building CBS.\n",
        "Finished building CBS and CBT for calibration period.\n",
        "...Finished Making All CBS and CBT\n",
        "Error in optim(logparams, pnbd.eLL, cal.cbs = cal.cbs, max.param.value = max.param.value,  : \n",
        "  L-BFGS-B needs finite values of 'fn'\n"
       ]
      }
     ],
     "prompt_number": 32
    },
    {
     "cell_type": "markdown",
     "metadata": {},
     "source": [
      "If you'd like, you can analyze the parameters of the new model by returning to the previous sections. Otherwise, continue below and calculate some key outputs of the model, which will later be imported back into BigQuery for further analysis. "
     ]
    },
    {
     "cell_type": "code",
     "collapsed": false,
     "input": [],
     "language": "python",
     "metadata": {},
     "outputs": []
    },
    {
     "cell_type": "heading",
     "level": 2,
     "metadata": {},
     "source": [
      "Analyzing the data in BigQuery"
     ]
    },
    {
     "cell_type": "markdown",
     "metadata": {},
     "source": [
      "Import CLV table into BigQuery and run some queries and do analysis"
     ]
    },
    {
     "cell_type": "code",
     "collapsed": false,
     "input": [],
     "language": "python",
     "metadata": {},
     "outputs": [],
     "prompt_number": 467
    },
    {
     "cell_type": "code",
     "collapsed": false,
     "input": [],
     "language": "python",
     "metadata": {},
     "outputs": []
    }
   ],
   "metadata": {}
  }
 ]
}
