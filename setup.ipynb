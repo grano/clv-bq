{
 "metadata": {
  "name": "",
  "signature": "sha256:e5f4f5562b85c4f4564cc752f2a244ac84bb494be9951ce37d990e7c97cdb480"
 },
 "nbformat": 3,
 "nbformat_minor": 0,
 "worksheets": [
  {
   "cells": [
    {
     "cell_type": "markdown",
     "metadata": {},
     "source": [
      "This article walks through the setup required for \"Calculating Customer Lifetime Value using BigQuery Export for Google Analytics\". The code in this article only needs to be run once per Compute Engine instance, but may take a few minutes. "
     ]
    },
    {
     "cell_type": "markdown",
     "metadata": {},
     "source": [
      "This code installs R and rpy2:"
     ]
    },
    {
     "cell_type": "code",
     "collapsed": false,
     "input": [
      "%%bash\n",
      "apt-get update\n",
      "apt-get install r-base-dev -y\n",
      "apt-get install python-rpy2 -y"
     ],
     "language": "python",
     "metadata": {},
     "outputs": [
      {
       "output_type": "stream",
       "stream": "stdout",
       "text": [
       ]
      },
      {
       "output_type": "stream",
       "stream": "stdout",
       "text": [
       ]
      }
     ],
     "prompt_number": 1
    },
    {
     "cell_type": "markdown",
     "metadata": {},
     "source": [
      "Now load rpy2:"
     ]
    },
    {
     "cell_type": "code",
     "collapsed": false,
     "input": [
      "%load_ext rpy2.ipython"
     ],
     "language": "python",
     "metadata": {},
     "outputs": [],
     "prompt_number": 2
    },
    {
     "cell_type": "markdown",
     "metadata": {},
     "source": [
      "This code installs the [BTYD package]() in R:"
     ]
    },
    {
     "cell_type": "code",
     "collapsed": false,
     "input": [
      "%%R\n",
      "install.packages('BTYD', repos='http://cran.us.r-project.org', dependencies=TRUE)"
     ],
     "language": "python",
     "metadata": {},
     "outputs": [
      {
       "metadata": {},
       "output_type": "display_data",
       "text": [
       ]
      }
     ],
     "prompt_number": 3
    },
    {
     "cell_type": "markdown",
     "metadata": {},
     "source": [
      "Everything needed for \"Calculating Customer Lifetime Value using BigQuery Export for Google Analytics\" is now installed. In other notebooks, you will still need to load rpy2 and the BTYD package using the following:"
     ]
    },
    {
     "cell_type": "code",
     "collapsed": false,
     "input": [
      "%load_ext rpy2.ipython"
     ],
     "language": "python",
     "metadata": {},
     "outputs": [
      {
       "output_type": "stream",
       "stream": "stdout",
       "text": [
       ]
      }
     ],
     "prompt_number": 4
    },
    {
     "cell_type": "code",
     "collapsed": false,
     "input": [
      "%%R\n",
      "library(BTYD)"
     ],
     "language": "python",
     "metadata": {},
     "outputs": [
      {
       "metadata": {},
       "output_type": "display_data",
       "text": [
       ]
      }
     ],
     "prompt_number": 5
    }
   ],
   "metadata": {}
  }
 ]
}
