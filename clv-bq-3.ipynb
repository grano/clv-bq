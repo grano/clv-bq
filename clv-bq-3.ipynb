{
 "metadata": {
  "name": "",
  "signature": "sha256:b59083d4c7c08c01e92881c8d8649cfc7c3fef1b1d84cd8b3b70d51fdd1d8cbf"
 },
 "nbformat": 3,
 "nbformat_minor": 0,
 "worksheets": [
  {
   "cells": [
    {
     "cell_type": "markdown",
     "metadata": {},
     "source": [
      "This document walks through how to do Customer Lifetime Value (CLV) analysis\n",
      "using [BigQuery Export for Google Analytics](https://support.google.com/analytics/answer/3437618?hl=en). "
     ]
    },
    {
     "cell_type": "heading",
     "level": 2,
     "metadata": {},
     "source": [
      "Intro"
     ]
    },
    {
     "cell_type": "markdown",
     "metadata": {},
     "source": [
      "In order to follow this guide and execute all of the code using your own data, you need the following:\n",
      "\n",
      "  1. Access to [BigQuery Export for Google Analytics](https://support.google.com/analytics/answer/3437618) \n",
      "  2. Ecommerce or another conversion activity being tracked\n",
      "  3. Data for at least a few months\n",
      "\n"
     ]
    },
    {
     "cell_type": "heading",
     "level": 2,
     "metadata": {},
     "source": [
      "Outline"
     ]
    },
    {
     "cell_type": "markdown",
     "metadata": {},
     "source": [
      "This article will use BigQuery Export to calculate Customer Lifetime Value and\n",
      "some related metrics by completing the following steps:\n",
      "\n",
      "  1. Query BigQuery to extract the data needed\n",
      "  2. Import this data into R \n",
      "  3. Use the data to build a model that forecasts CLV and related metrics for each customer:\n",
      "     * Customer Lifetime Value\n",
      "     * Expected transactions\n",
      "     * Expected spend per transaction\n",
      "     * The probability that a given customer is still active\n",
      "  4. Import the CLV calculations back into BigQuery\n",
      "  5. Analyze the CLV calculations using BigQuery\n",
      "\n",
      "This article will outline each of these steps."
     ]
    },
    {
     "cell_type": "heading",
     "level": 2,
     "metadata": {},
     "source": [
      "CLV"
     ]
    },
    {
     "cell_type": "markdown",
     "metadata": {},
     "source": [
      "Customer Lifetime Value is is the dollar amount of money that an individual\n",
      "customer will spend with a given business in the future. It is often used to:\n",
      "\n",
      "  * Value segments or all of your customer base \n",
      "  * Decide how much to spend acquiring new customers in a given segment\n",
      "  * Decide how much to spend retaining certain customers \n",
      "  * Rank customers\n",
      "  * Measure success of marketing action based upon baseline CLV forecast\n",
      "\n",
      "Additionally, the probability that a customer is active is used to:\n",
      "\n",
      "  * Determine size of active customer base\n",
      "  * Identify customers who are on the brink of becoming inactive and take action\n",
      "\n",
      "Taken together, a strong model of user behavior serves as the foundation for\n",
      "many marketing activities and measurement.\n"
     ]
    },
    {
     "cell_type": "heading",
     "level": 2,
     "metadata": {},
     "source": [
      "Model"
     ]
    },
    {
     "cell_type": "markdown",
     "metadata": {},
     "source": [
      "Talk about the model\n"
     ]
    },
    {
     "cell_type": "heading",
     "level": 2,
     "metadata": {},
     "source": [
      "Big Query"
     ]
    },
    {
     "cell_type": "markdown",
     "metadata": {},
     "source": [
      "First, you need to extract the data from BigQuery. The following `gcp.bigquery` import makes the BigQuery functionality available to this notebook. "
     ]
    },
    {
     "cell_type": "code",
     "collapsed": false,
     "input": [
      "import gcp\n",
      "import gcp.bigquery as bq"
     ],
     "language": "python",
     "metadata": {},
     "outputs": [],
     "prompt_number": 1
    },
    {
     "cell_type": "markdown",
     "metadata": {},
     "source": [
      "As long as you are using Ecommerce tracking or Goals, all of the data needed to\n",
      "calculate CLV is available via BigQuery Export. \n",
      "\n",
      "This query extracts the date, number of transactions, and transaction revenue\n",
      "for all transactions among first time visitors in a given date range (i.e. a cohort).\n",
      "\n",
      "The query below is customized as follows. Modify to suit your business. "
     ]
    },
    {
     "cell_type": "code",
     "collapsed": false,
     "input": [
      "class Column(object):\n",
      "    def __init__(self, name):\n",
      "        self._name = name\n",
      "    def _repr_sql_(self):\n",
      "        return self._name\n",
      "\n",
      "\n",
      "#ga_view_id = 33324909\n",
      "#few transactions\n",
      "#ga_view_id = 44956929\n",
      "ga_view_id = 62092124\n",
      "# starting November 12, 2014\n",
      "#ga_view_id = 89571105 \n",
      "visitor_id = Column('fullVisitorId')\n",
      "conversion = Column('totals.transactions')\n",
      "conversion_revenue = Column('totals.transactionRevenue')\n",
      "start_date = '2014-01-01'\n",
      "end_date = '2014-09-15'\n",
      "cohort_end_date = '2014-01-15'\n",
      "end_of_cal_period = '2014-05-15'\n",
      "sampling_rate = Column('1')\n",
      "join_each_used = Column('') # if needed set this to 'EACH' rename to use_join_each"
     ],
     "language": "python",
     "metadata": {},
     "outputs": [],
     "prompt_number": 40
    },
    {
     "cell_type": "markdown",
     "metadata": {},
     "source": [
      "Now that all of the input values needed have been specified, run the query below to view the raw data."
     ]
    },
    {
     "cell_type": "code",
     "collapsed": false,
     "input": [
      "%%bq_sql event_log_query\n",
      "SELECT\n",
      "  *\n",
      "FROM\n",
      "  (\n",
      "  SELECT\n",
      "    date,\n",
      "    $visitor_id,\n",
      "    $conversion_revenue,\n",
      "    $conversion,\n",
      "  FROM\n",
      "    TABLE_DATE_RANGE([941929509095:$ga_view_id.ga_sessions_],\n",
      "      TIMESTAMP($start_date),\n",
      "      TIMESTAMP($end_date))\n",
      "  WHERE\n",
      "    $conversion IS NOT NULL\n",
      "    ) a\n",
      "JOIN\n",
      "  EACH\n",
      "  (\n",
      "  SELECT\n",
      "    $visitor_id\n",
      "  FROM\n",
      "    TABLE_DATE_RANGE([941929509095:$ga_view_id.ga_sessions_],\n",
      "      TIMESTAMP($start_date),\n",
      "      TIMESTAMP($cohort_end_date))\n",
      "  WHERE\n",
      "    totals.newVisits IS NOT NULL\n",
      "    AND RAND() < $sampling_rate\n",
      "  GROUP BY\n",
      "    1\n",
      "    ) b\n",
      "ON\n",
      "  a.$visitor_id=b.$visitor_id\n",
      "ORDER BY\n",
      "  date"
     ],
     "language": "python",
     "metadata": {},
     "outputs": [],
     "prompt_number": 41
    },
    {
     "cell_type": "code",
     "collapsed": false,
     "input": [
      "print event_log_query.sql"
     ],
     "language": "python",
     "metadata": {},
     "outputs": [
      {
       "output_type": "stream",
       "stream": "stdout",
       "text": [
        "SELECT\n",
        "  *\n",
        "FROM\n",
        "  (\n",
        "  SELECT\n",
        "    date,\n",
        "    fullVisitorId,\n",
        "    totals.transactionRevenue,\n",
        "    totals.transactions,\n",
        "  FROM\n",
        "    TABLE_DATE_RANGE([941929509095:62092124.ga_sessions_],\n",
        "      TIMESTAMP(\"2014-01-01\"),\n",
        "      TIMESTAMP(\"2014-09-15\"))\n",
        "  WHERE\n",
        "    totals.transactions IS NOT NULL\n",
        "    ) a\n",
        "JOIN\n",
        "  EACH\n",
        "  (\n",
        "  SELECT\n",
        "    fullVisitorId\n",
        "  FROM\n",
        "    TABLE_DATE_RANGE([941929509095:62092124.ga_sessions_],\n",
        "      TIMESTAMP(\"2014-01-01\"),\n",
        "      TIMESTAMP(\"2014-01-15\"))\n",
        "  WHERE\n",
        "    totals.newVisits IS NOT NULL\n",
        "    AND RAND() < 1\n",
        "  GROUP BY\n",
        "    1\n",
        "    ) b\n",
        "ON\n",
        "  a.fullVisitorId=b.fullVisitorId\n",
        "ORDER BY\n",
        "  date\n"
       ]
      }
     ],
     "prompt_number": 42
    },
    {
     "cell_type": "code",
     "collapsed": false,
     "input": [
      "event_log_data = event_log_query.results()\n",
      "event_log_data.to_dataframe()"
     ],
     "language": "python",
     "metadata": {},
     "outputs": [
      {
       "html": [
        "<div style=\"max-height:1000px;max-width:1500px;overflow:auto;\">\n",
        "<table border=\"1\" class=\"dataframe\">\n",
        "  <thead>\n",
        "    <tr style=\"text-align: right;\">\n",
        "      <th></th>\n",
        "      <th>a_date</th>\n",
        "      <th>a_fullVisitorId</th>\n",
        "      <th>a_totals_transactionRevenue</th>\n",
        "      <th>a_totals_transactions</th>\n",
        "      <th>b_fullVisitorId</th>\n",
        "    </tr>\n",
        "  </thead>\n",
        "  <tbody>\n",
        "    <tr>\n",
        "      <th>0    </th>\n",
        "      <td> 20140101</td>\n",
        "      <td> 5035472070704922683</td>\n",
        "      <td> 179960000</td>\n",
        "      <td> 1</td>\n",
        "      <td> 5035472070704922683</td>\n",
        "    </tr>\n",
        "    <tr>\n",
        "      <th>1    </th>\n",
        "      <td> 20140101</td>\n",
        "      <td> 6003891186254011897</td>\n",
        "      <td>   4250000</td>\n",
        "      <td> 1</td>\n",
        "      <td> 6003891186254011897</td>\n",
        "    </tr>\n",
        "    <tr>\n",
        "      <th>2    </th>\n",
        "      <td> 20140101</td>\n",
        "      <td> 6235792516562843166</td>\n",
        "      <td>  86270000</td>\n",
        "      <td> 1</td>\n",
        "      <td> 6235792516562843166</td>\n",
        "    </tr>\n",
        "    <tr>\n",
        "      <th>3    </th>\n",
        "      <td> 20140101</td>\n",
        "      <td> 6805761589007148854</td>\n",
        "      <td>  19250000</td>\n",
        "      <td> 1</td>\n",
        "      <td> 6805761589007148854</td>\n",
        "    </tr>\n",
        "    <tr>\n",
        "      <th>4    </th>\n",
        "      <td> 20140101</td>\n",
        "      <td> 6961322031703168395</td>\n",
        "      <td>  29000000</td>\n",
        "      <td> 1</td>\n",
        "      <td> 6961322031703168395</td>\n",
        "    </tr>\n",
        "    <tr>\n",
        "      <th>5    </th>\n",
        "      <td> 20140101</td>\n",
        "      <td> 7460564945676321492</td>\n",
        "      <td>  50300000</td>\n",
        "      <td> 1</td>\n",
        "      <td> 7460564945676321492</td>\n",
        "    </tr>\n",
        "    <tr>\n",
        "      <th>6    </th>\n",
        "      <td> 20140101</td>\n",
        "      <td> 7639001951853934892</td>\n",
        "      <td>  24180000</td>\n",
        "      <td> 1</td>\n",
        "      <td> 7639001951853934892</td>\n",
        "    </tr>\n",
        "    <tr>\n",
        "      <th>7    </th>\n",
        "      <td> 20140101</td>\n",
        "      <td> 8046457377442278282</td>\n",
        "      <td>  14310000</td>\n",
        "      <td> 1</td>\n",
        "      <td> 8046457377442278282</td>\n",
        "    </tr>\n",
        "    <tr>\n",
        "      <th>8    </th>\n",
        "      <td> 20140101</td>\n",
        "      <td>   11716096646503555</td>\n",
        "      <td>  77930000</td>\n",
        "      <td> 1</td>\n",
        "      <td>   11716096646503555</td>\n",
        "    </tr>\n",
        "    <tr>\n",
        "      <th>9    </th>\n",
        "      <td> 20140101</td>\n",
        "      <td> 1489913225679257848</td>\n",
        "      <td>  16040000</td>\n",
        "      <td> 1</td>\n",
        "      <td> 1489913225679257848</td>\n",
        "    </tr>\n",
        "    <tr>\n",
        "      <th>10   </th>\n",
        "      <td> 20140101</td>\n",
        "      <td> 2178012676360562689</td>\n",
        "      <td>  34130000</td>\n",
        "      <td> 1</td>\n",
        "      <td> 2178012676360562689</td>\n",
        "    </tr>\n",
        "    <tr>\n",
        "      <th>11   </th>\n",
        "      <td> 20140101</td>\n",
        "      <td> 4604406600005116815</td>\n",
        "      <td>  16900000</td>\n",
        "      <td> 1</td>\n",
        "      <td> 4604406600005116815</td>\n",
        "    </tr>\n",
        "    <tr>\n",
        "      <th>12   </th>\n",
        "      <td> 20140101</td>\n",
        "      <td> 5318243947150366231</td>\n",
        "      <td>  20020000</td>\n",
        "      <td> 1</td>\n",
        "      <td> 5318243947150366231</td>\n",
        "    </tr>\n",
        "    <tr>\n",
        "      <th>13   </th>\n",
        "      <td> 20140101</td>\n",
        "      <td> 5827594138941698672</td>\n",
        "      <td>   5170000</td>\n",
        "      <td> 1</td>\n",
        "      <td> 5827594138941698672</td>\n",
        "    </tr>\n",
        "    <tr>\n",
        "      <th>14   </th>\n",
        "      <td> 20140101</td>\n",
        "      <td> 6205922101350926188</td>\n",
        "      <td>  36830000</td>\n",
        "      <td> 1</td>\n",
        "      <td> 6205922101350926188</td>\n",
        "    </tr>\n",
        "    <tr>\n",
        "      <th>15   </th>\n",
        "      <td> 20140101</td>\n",
        "      <td>  305700036757718395</td>\n",
        "      <td>  43430000</td>\n",
        "      <td> 1</td>\n",
        "      <td>  305700036757718395</td>\n",
        "    </tr>\n",
        "    <tr>\n",
        "      <th>16   </th>\n",
        "      <td> 20140101</td>\n",
        "      <td>  935378414565885854</td>\n",
        "      <td>   2320000</td>\n",
        "      <td> 1</td>\n",
        "      <td>  935378414565885854</td>\n",
        "    </tr>\n",
        "    <tr>\n",
        "      <th>17   </th>\n",
        "      <td> 20140101</td>\n",
        "      <td> 1207336774540759887</td>\n",
        "      <td>  32130000</td>\n",
        "      <td> 1</td>\n",
        "      <td> 1207336774540759887</td>\n",
        "    </tr>\n",
        "    <tr>\n",
        "      <th>18   </th>\n",
        "      <td> 20140101</td>\n",
        "      <td> 2101618350764652358</td>\n",
        "      <td>  17910000</td>\n",
        "      <td> 2</td>\n",
        "      <td> 2101618350764652358</td>\n",
        "    </tr>\n",
        "    <tr>\n",
        "      <th>19   </th>\n",
        "      <td> 20140101</td>\n",
        "      <td> 7236377312206514212</td>\n",
        "      <td>  10570000</td>\n",
        "      <td> 1</td>\n",
        "      <td> 7236377312206514212</td>\n",
        "    </tr>\n",
        "    <tr>\n",
        "      <th>20   </th>\n",
        "      <td> 20140101</td>\n",
        "      <td> 7398584839563365996</td>\n",
        "      <td>  56450000</td>\n",
        "      <td> 1</td>\n",
        "      <td> 7398584839563365996</td>\n",
        "    </tr>\n",
        "    <tr>\n",
        "      <th>21   </th>\n",
        "      <td> 20140101</td>\n",
        "      <td> 4725638580284997088</td>\n",
        "      <td>  32000000</td>\n",
        "      <td> 1</td>\n",
        "      <td> 4725638580284997088</td>\n",
        "    </tr>\n",
        "    <tr>\n",
        "      <th>22   </th>\n",
        "      <td> 20140101</td>\n",
        "      <td> 6304790723791449553</td>\n",
        "      <td>  40220000</td>\n",
        "      <td> 1</td>\n",
        "      <td> 6304790723791449553</td>\n",
        "    </tr>\n",
        "    <tr>\n",
        "      <th>23   </th>\n",
        "      <td> 20140101</td>\n",
        "      <td>   47287127461111424</td>\n",
        "      <td>   8050000</td>\n",
        "      <td> 1</td>\n",
        "      <td>   47287127461111424</td>\n",
        "    </tr>\n",
        "    <tr>\n",
        "      <th>24   </th>\n",
        "      <td> 20140101</td>\n",
        "      <td> 3674017147824425742</td>\n",
        "      <td>  14010000</td>\n",
        "      <td> 1</td>\n",
        "      <td> 3674017147824425742</td>\n",
        "    </tr>\n",
        "    <tr>\n",
        "      <th>25   </th>\n",
        "      <td> 20140101</td>\n",
        "      <td> 2993414584033106380</td>\n",
        "      <td>   9240000</td>\n",
        "      <td> 1</td>\n",
        "      <td> 2993414584033106380</td>\n",
        "    </tr>\n",
        "    <tr>\n",
        "      <th>26   </th>\n",
        "      <td> 20140101</td>\n",
        "      <td> 2981657123945202059</td>\n",
        "      <td>  61250000</td>\n",
        "      <td> 1</td>\n",
        "      <td> 2981657123945202059</td>\n",
        "    </tr>\n",
        "    <tr>\n",
        "      <th>27   </th>\n",
        "      <td> 20140101</td>\n",
        "      <td> 2762271963992074840</td>\n",
        "      <td>   3220000</td>\n",
        "      <td> 1</td>\n",
        "      <td> 2762271963992074840</td>\n",
        "    </tr>\n",
        "    <tr>\n",
        "      <th>28   </th>\n",
        "      <td> 20140101</td>\n",
        "      <td> 2069755659137886914</td>\n",
        "      <td>  28880000</td>\n",
        "      <td> 1</td>\n",
        "      <td> 2069755659137886914</td>\n",
        "    </tr>\n",
        "    <tr>\n",
        "      <th>29   </th>\n",
        "      <td> 20140101</td>\n",
        "      <td> 1324253609768324701</td>\n",
        "      <td>  32580000</td>\n",
        "      <td> 1</td>\n",
        "      <td> 1324253609768324701</td>\n",
        "    </tr>\n",
        "    <tr>\n",
        "      <th>...</th>\n",
        "      <td>...</td>\n",
        "      <td>...</td>\n",
        "      <td>...</td>\n",
        "      <td>...</td>\n",
        "      <td>...</td>\n",
        "    </tr>\n",
        "    <tr>\n",
        "      <th>66049</th>\n",
        "      <td> 20140829</td>\n",
        "      <td> 4100779559509856650</td>\n",
        "      <td>  46200000</td>\n",
        "      <td> 1</td>\n",
        "      <td> 4100779559509856650</td>\n",
        "    </tr>\n",
        "    <tr>\n",
        "      <th>66050</th>\n",
        "      <td> 20140829</td>\n",
        "      <td> 8965198788123006233</td>\n",
        "      <td>  57440000</td>\n",
        "      <td> 1</td>\n",
        "      <td> 8965198788123006233</td>\n",
        "    </tr>\n",
        "    <tr>\n",
        "      <th>66051</th>\n",
        "      <td> 20140829</td>\n",
        "      <td> 8239427878639641214</td>\n",
        "      <td> 113730000</td>\n",
        "      <td> 1</td>\n",
        "      <td> 8239427878639641214</td>\n",
        "    </tr>\n",
        "    <tr>\n",
        "      <th>66052</th>\n",
        "      <td> 20140829</td>\n",
        "      <td> 2083466719460438266</td>\n",
        "      <td>  94090000</td>\n",
        "      <td> 1</td>\n",
        "      <td> 2083466719460438266</td>\n",
        "    </tr>\n",
        "    <tr>\n",
        "      <th>66053</th>\n",
        "      <td> 20140829</td>\n",
        "      <td> 5644791663579951182</td>\n",
        "      <td>  39500000</td>\n",
        "      <td> 1</td>\n",
        "      <td> 5644791663579951182</td>\n",
        "    </tr>\n",
        "    <tr>\n",
        "      <th>66054</th>\n",
        "      <td> 20140829</td>\n",
        "      <td> 8258254154818315230</td>\n",
        "      <td>  20690000</td>\n",
        "      <td> 1</td>\n",
        "      <td> 8258254154818315230</td>\n",
        "    </tr>\n",
        "    <tr>\n",
        "      <th>66055</th>\n",
        "      <td> 20140829</td>\n",
        "      <td> 4628146310180256391</td>\n",
        "      <td> 179390000</td>\n",
        "      <td> 1</td>\n",
        "      <td> 4628146310180256391</td>\n",
        "    </tr>\n",
        "    <tr>\n",
        "      <th>66056</th>\n",
        "      <td> 20140829</td>\n",
        "      <td> 1192385430743359491</td>\n",
        "      <td> 435410000</td>\n",
        "      <td> 1</td>\n",
        "      <td> 1192385430743359491</td>\n",
        "    </tr>\n",
        "    <tr>\n",
        "      <th>66057</th>\n",
        "      <td> 20140829</td>\n",
        "      <td> 6528168833235318731</td>\n",
        "      <td>  37060000</td>\n",
        "      <td> 1</td>\n",
        "      <td> 6528168833235318731</td>\n",
        "    </tr>\n",
        "    <tr>\n",
        "      <th>66058</th>\n",
        "      <td> 20140829</td>\n",
        "      <td> 9053921971960091104</td>\n",
        "      <td>  28210000</td>\n",
        "      <td> 1</td>\n",
        "      <td> 9053921971960091104</td>\n",
        "    </tr>\n",
        "    <tr>\n",
        "      <th>66059</th>\n",
        "      <td> 20140829</td>\n",
        "      <td> 2068232899958284347</td>\n",
        "      <td>  11950000</td>\n",
        "      <td> 1</td>\n",
        "      <td> 2068232899958284347</td>\n",
        "    </tr>\n",
        "    <tr>\n",
        "      <th>66060</th>\n",
        "      <td> 20140829</td>\n",
        "      <td> 1262814553570658491</td>\n",
        "      <td>  36930000</td>\n",
        "      <td> 1</td>\n",
        "      <td> 1262814553570658491</td>\n",
        "    </tr>\n",
        "    <tr>\n",
        "      <th>66061</th>\n",
        "      <td> 20140829</td>\n",
        "      <td>  692249485695545843</td>\n",
        "      <td>  83740000</td>\n",
        "      <td> 1</td>\n",
        "      <td>  692249485695545843</td>\n",
        "    </tr>\n",
        "    <tr>\n",
        "      <th>66062</th>\n",
        "      <td> 20140829</td>\n",
        "      <td> 5030379244514909883</td>\n",
        "      <td>  44120000</td>\n",
        "      <td> 1</td>\n",
        "      <td> 5030379244514909883</td>\n",
        "    </tr>\n",
        "    <tr>\n",
        "      <th>66063</th>\n",
        "      <td> 20140829</td>\n",
        "      <td> 5018109871570313074</td>\n",
        "      <td>   3930000</td>\n",
        "      <td> 1</td>\n",
        "      <td> 5018109871570313074</td>\n",
        "    </tr>\n",
        "    <tr>\n",
        "      <th>66064</th>\n",
        "      <td> 20140829</td>\n",
        "      <td> 1362431711502286034</td>\n",
        "      <td>   4410000</td>\n",
        "      <td> 1</td>\n",
        "      <td> 1362431711502286034</td>\n",
        "    </tr>\n",
        "    <tr>\n",
        "      <th>66065</th>\n",
        "      <td> 20140829</td>\n",
        "      <td> 3314224365889314503</td>\n",
        "      <td> 196470000</td>\n",
        "      <td> 1</td>\n",
        "      <td> 3314224365889314503</td>\n",
        "    </tr>\n",
        "    <tr>\n",
        "      <th>66066</th>\n",
        "      <td> 20140830</td>\n",
        "      <td> 7951449363665749637</td>\n",
        "      <td>  33790000</td>\n",
        "      <td> 1</td>\n",
        "      <td> 7951449363665749637</td>\n",
        "    </tr>\n",
        "    <tr>\n",
        "      <th>66067</th>\n",
        "      <td> 20140830</td>\n",
        "      <td> 6815427361367496333</td>\n",
        "      <td>  27620000</td>\n",
        "      <td> 1</td>\n",
        "      <td> 6815427361367496333</td>\n",
        "    </tr>\n",
        "    <tr>\n",
        "      <th>66068</th>\n",
        "      <td> 20140830</td>\n",
        "      <td> 9214209116360021134</td>\n",
        "      <td>   3820000</td>\n",
        "      <td> 1</td>\n",
        "      <td> 9214209116360021134</td>\n",
        "    </tr>\n",
        "    <tr>\n",
        "      <th>66069</th>\n",
        "      <td> 20140830</td>\n",
        "      <td> 7711043495599213803</td>\n",
        "      <td>  60060000</td>\n",
        "      <td> 1</td>\n",
        "      <td> 7711043495599213803</td>\n",
        "    </tr>\n",
        "    <tr>\n",
        "      <th>66070</th>\n",
        "      <td> 20140830</td>\n",
        "      <td> 2655631074243828503</td>\n",
        "      <td>  48900000</td>\n",
        "      <td> 1</td>\n",
        "      <td> 2655631074243828503</td>\n",
        "    </tr>\n",
        "    <tr>\n",
        "      <th>66071</th>\n",
        "      <td> 20140830</td>\n",
        "      <td> 3862655087877646849</td>\n",
        "      <td>  21820000</td>\n",
        "      <td> 1</td>\n",
        "      <td> 3862655087877646849</td>\n",
        "    </tr>\n",
        "    <tr>\n",
        "      <th>66072</th>\n",
        "      <td> 20140830</td>\n",
        "      <td> 5158313469719933138</td>\n",
        "      <td>  15210000</td>\n",
        "      <td> 1</td>\n",
        "      <td> 5158313469719933138</td>\n",
        "    </tr>\n",
        "    <tr>\n",
        "      <th>66073</th>\n",
        "      <td> 20140830</td>\n",
        "      <td>  403620107081175486</td>\n",
        "      <td>   9280000</td>\n",
        "      <td> 1</td>\n",
        "      <td>  403620107081175486</td>\n",
        "    </tr>\n",
        "    <tr>\n",
        "      <th>66074</th>\n",
        "      <td> 20140830</td>\n",
        "      <td> 1319091432741588554</td>\n",
        "      <td>  34640000</td>\n",
        "      <td> 1</td>\n",
        "      <td> 1319091432741588554</td>\n",
        "    </tr>\n",
        "    <tr>\n",
        "      <th>66075</th>\n",
        "      <td> 20140830</td>\n",
        "      <td> 4677281281506664455</td>\n",
        "      <td>  16430000</td>\n",
        "      <td> 1</td>\n",
        "      <td> 4677281281506664455</td>\n",
        "    </tr>\n",
        "    <tr>\n",
        "      <th>66076</th>\n",
        "      <td> 20140830</td>\n",
        "      <td> 6627817842644069973</td>\n",
        "      <td>  13550000</td>\n",
        "      <td> 1</td>\n",
        "      <td> 6627817842644069973</td>\n",
        "    </tr>\n",
        "    <tr>\n",
        "      <th>66077</th>\n",
        "      <td> 20140830</td>\n",
        "      <td> 1591338023675861687</td>\n",
        "      <td>  84330000</td>\n",
        "      <td> 1</td>\n",
        "      <td> 1591338023675861687</td>\n",
        "    </tr>\n",
        "    <tr>\n",
        "      <th>66078</th>\n",
        "      <td> 20140830</td>\n",
        "      <td> 3388578135343235904</td>\n",
        "      <td>  51990000</td>\n",
        "      <td> 1</td>\n",
        "      <td> 3388578135343235904</td>\n",
        "    </tr>\n",
        "  </tbody>\n",
        "</table>\n",
        "<p>66079 rows \u00d7 5 columns</p>\n",
        "</div>"
       ],
       "metadata": {},
       "output_type": "pyout",
       "prompt_number": 43,
       "text": [
        "         a_date      a_fullVisitorId  a_totals_transactionRevenue  \\\n",
        "0      20140101  5035472070704922683                    179960000   \n",
        "1      20140101  6003891186254011897                      4250000   \n",
        "2      20140101  6235792516562843166                     86270000   \n",
        "3      20140101  6805761589007148854                     19250000   \n",
        "4      20140101  6961322031703168395                     29000000   \n",
        "5      20140101  7460564945676321492                     50300000   \n",
        "6      20140101  7639001951853934892                     24180000   \n",
        "7      20140101  8046457377442278282                     14310000   \n",
        "8      20140101    11716096646503555                     77930000   \n",
        "9      20140101  1489913225679257848                     16040000   \n",
        "10     20140101  2178012676360562689                     34130000   \n",
        "11     20140101  4604406600005116815                     16900000   \n",
        "12     20140101  5318243947150366231                     20020000   \n",
        "13     20140101  5827594138941698672                      5170000   \n",
        "14     20140101  6205922101350926188                     36830000   \n",
        "15     20140101   305700036757718395                     43430000   \n",
        "16     20140101   935378414565885854                      2320000   \n",
        "17     20140101  1207336774540759887                     32130000   \n",
        "18     20140101  2101618350764652358                     17910000   \n",
        "19     20140101  7236377312206514212                     10570000   \n",
        "20     20140101  7398584839563365996                     56450000   \n",
        "21     20140101  4725638580284997088                     32000000   \n",
        "22     20140101  6304790723791449553                     40220000   \n",
        "23     20140101    47287127461111424                      8050000   \n",
        "24     20140101  3674017147824425742                     14010000   \n",
        "25     20140101  2993414584033106380                      9240000   \n",
        "26     20140101  2981657123945202059                     61250000   \n",
        "27     20140101  2762271963992074840                      3220000   \n",
        "28     20140101  2069755659137886914                     28880000   \n",
        "29     20140101  1324253609768324701                     32580000   \n",
        "...         ...                  ...                          ...   \n",
        "66049  20140829  4100779559509856650                     46200000   \n",
        "66050  20140829  8965198788123006233                     57440000   \n",
        "66051  20140829  8239427878639641214                    113730000   \n",
        "66052  20140829  2083466719460438266                     94090000   \n",
        "66053  20140829  5644791663579951182                     39500000   \n",
        "66054  20140829  8258254154818315230                     20690000   \n",
        "66055  20140829  4628146310180256391                    179390000   \n",
        "66056  20140829  1192385430743359491                    435410000   \n",
        "66057  20140829  6528168833235318731                     37060000   \n",
        "66058  20140829  9053921971960091104                     28210000   \n",
        "66059  20140829  2068232899958284347                     11950000   \n",
        "66060  20140829  1262814553570658491                     36930000   \n",
        "66061  20140829   692249485695545843                     83740000   \n",
        "66062  20140829  5030379244514909883                     44120000   \n",
        "66063  20140829  5018109871570313074                      3930000   \n",
        "66064  20140829  1362431711502286034                      4410000   \n",
        "66065  20140829  3314224365889314503                    196470000   \n",
        "66066  20140830  7951449363665749637                     33790000   \n",
        "66067  20140830  6815427361367496333                     27620000   \n",
        "66068  20140830  9214209116360021134                      3820000   \n",
        "66069  20140830  7711043495599213803                     60060000   \n",
        "66070  20140830  2655631074243828503                     48900000   \n",
        "66071  20140830  3862655087877646849                     21820000   \n",
        "66072  20140830  5158313469719933138                     15210000   \n",
        "66073  20140830   403620107081175486                      9280000   \n",
        "66074  20140830  1319091432741588554                     34640000   \n",
        "66075  20140830  4677281281506664455                     16430000   \n",
        "66076  20140830  6627817842644069973                     13550000   \n",
        "66077  20140830  1591338023675861687                     84330000   \n",
        "66078  20140830  3388578135343235904                     51990000   \n",
        "\n",
        "       a_totals_transactions      b_fullVisitorId  \n",
        "0                          1  5035472070704922683  \n",
        "1                          1  6003891186254011897  \n",
        "2                          1  6235792516562843166  \n",
        "3                          1  6805761589007148854  \n",
        "4                          1  6961322031703168395  \n",
        "5                          1  7460564945676321492  \n",
        "6                          1  7639001951853934892  \n",
        "7                          1  8046457377442278282  \n",
        "8                          1    11716096646503555  \n",
        "9                          1  1489913225679257848  \n",
        "10                         1  2178012676360562689  \n",
        "11                         1  4604406600005116815  \n",
        "12                         1  5318243947150366231  \n",
        "13                         1  5827594138941698672  \n",
        "14                         1  6205922101350926188  \n",
        "15                         1   305700036757718395  \n",
        "16                         1   935378414565885854  \n",
        "17                         1  1207336774540759887  \n",
        "18                         2  2101618350764652358  \n",
        "19                         1  7236377312206514212  \n",
        "20                         1  7398584839563365996  \n",
        "21                         1  4725638580284997088  \n",
        "22                         1  6304790723791449553  \n",
        "23                         1    47287127461111424  \n",
        "24                         1  3674017147824425742  \n",
        "25                         1  2993414584033106380  \n",
        "26                         1  2981657123945202059  \n",
        "27                         1  2762271963992074840  \n",
        "28                         1  2069755659137886914  \n",
        "29                         1  1324253609768324701  \n",
        "...                      ...                  ...  \n",
        "66049                      1  4100779559509856650  \n",
        "66050                      1  8965198788123006233  \n",
        "66051                      1  8239427878639641214  \n",
        "66052                      1  2083466719460438266  \n",
        "66053                      1  5644791663579951182  \n",
        "66054                      1  8258254154818315230  \n",
        "66055                      1  4628146310180256391  \n",
        "66056                      1  1192385430743359491  \n",
        "66057                      1  6528168833235318731  \n",
        "66058                      1  9053921971960091104  \n",
        "66059                      1  2068232899958284347  \n",
        "66060                      1  1262814553570658491  \n",
        "66061                      1   692249485695545843  \n",
        "66062                      1  5030379244514909883  \n",
        "66063                      1  5018109871570313074  \n",
        "66064                      1  1362431711502286034  \n",
        "66065                      1  3314224365889314503  \n",
        "66066                      1  7951449363665749637  \n",
        "66067                      1  6815427361367496333  \n",
        "66068                      1  9214209116360021134  \n",
        "66069                      1  7711043495599213803  \n",
        "66070                      1  2655631074243828503  \n",
        "66071                      1  3862655087877646849  \n",
        "66072                      1  5158313469719933138  \n",
        "66073                      1   403620107081175486  \n",
        "66074                      1  1319091432741588554  \n",
        "66075                      1  4677281281506664455  \n",
        "66076                      1  6627817842644069973  \n",
        "66077                      1  1591338023675861687  \n",
        "66078                      1  3388578135343235904  \n",
        "\n",
        "[66079 rows x 5 columns]"
       ]
      }
     ],
     "prompt_number": 43
    },
    {
     "cell_type": "heading",
     "level": 2,
     "metadata": {},
     "source": [
      "Building the Model in R"
     ]
    },
    {
     "cell_type": "markdown",
     "metadata": {},
     "source": [
      "Now that the data needed for the model is loaded into the notebook, R is used to build a model of customer behavior. This model will then be used to calculate CLV and related metrics. The [BTYD R package](http://cran.r-project.org/package=BTYD) will be used to run the Pareto/NBD Buy 'Til You Die (BTYD) model first\n",
      "introduced by [Schmittlein, Morrison, and Colombo](http://www.jstor.org/discover/10.2307/2631608?uid=3739584&uid=2129&uid=2&uid=70&uid=4&uid=3739256&sid=21105176808473) and later popularized by [Fader, Hardie, and Lee](http://brucehardie.com/papers/bgnbd_2004-04-20.pdf). TODO: add overview of Pareto/NBD"
     ]
    },
    {
     "cell_type": "heading",
     "level": 3,
     "metadata": {},
     "source": [
      "R Setup"
     ]
    },
    {
     "cell_type": "markdown",
     "metadata": {},
     "source": [
      "If you do not already have R and rpy2 installed, do so now:"
     ]
    },
    {
     "cell_type": "code",
     "collapsed": false,
     "input": [
      "%%bash\n",
      "apt-get update\n",
      "apt-get install r-base-dev -y\n",
      "apt-get install python-rpy2 -y"
     ],
     "language": "python",
     "metadata": {},
     "outputs": [
      {
       "output_type": "stream",
       "stream": "stdout",
       "text": [
        "Hit http://security.debian.org jessie/updates InRelease\n",
        "Get:1 http://ftp.us.debian.org testing InRelease [191 kB]\n",
        "Hit http://security.debian.org jessie/updates/main amd64 Packages\n",
        "Get:2 http://http.debian.net jessie InRelease [191 kB]\n",
        "Get:3 http://ftp.us.debian.org testing/main Sources [9270 kB]\n",
        "Get:4 http://http.debian.net jessie-updates InRelease [117 kB]\n",
        "Get:5 http://http.debian.net jessie/main amd64 Packages [9088 kB]\n",
        "Get:6 http://http.debian.net jessie-updates/main amd64 Packages [20 B]\n",
        "Fetched 18.9 MB in 4s (4194 kB/s)\n",
        "Reading package lists...\n",
        "Reading package lists...\n",
        "Building dependency tree...\n",
        "Reading state information...\n",
        "r-base-dev is already the newest version.\n",
        "0 upgraded, 0 newly installed, 0 to remove and 174 not upgraded.\n",
        "Reading package lists...\n",
        "Building dependency tree...\n",
        "Reading state information...\n",
        "python-rpy2 is already the newest version.\n",
        "0 upgraded, 0 newly installed, 0 to remove and 174 not upgraded.\n"
       ]
      }
     ],
     "prompt_number": 184
    },
    {
     "cell_type": "markdown",
     "metadata": {},
     "source": [
      "Now load rpy2"
     ]
    },
    {
     "cell_type": "code",
     "collapsed": false,
     "input": [
      "%load_ext rpy2.ipython"
     ],
     "language": "python",
     "metadata": {},
     "outputs": [],
     "prompt_number": 6
    },
    {
     "cell_type": "markdown",
     "metadata": {},
     "source": [
      "Install the [BTYD R Package](http://cran.r-project.org/web/packages/BTYD/index.html)"
     ]
    },
    {
     "cell_type": "code",
     "collapsed": false,
     "input": [
      "%%R\n",
      "install.packages('BTYD', repos='http://cran.us.r-project.org', dependencies=TRUE)\n",
      "library(BTYD)"
     ],
     "language": "python",
     "metadata": {},
     "outputs": [
      {
       "metadata": {},
       "output_type": "display_data",
       "text": [
        "Installing package into '/usr/local/lib/R/site-library'\n",
        "(as 'lib' is unspecified)\n",
        "trying URL 'http://cran.us.r-project.org/src/contrib/BTYD_2.4.tar.gz'\n",
        "Content type 'application/x-gzip' length 692236 bytes (676 Kb)\n",
        "opened URL\n",
        "==================================================\n",
        "downloaded 676 Kb\n",
        "\n",
        "\n",
        "The downloaded source packages are in\n",
        "\t'/tmp/RtmpBebtv2/downloaded_packages'\n",
        "Loading required package: hypergeo\n"
       ]
      }
     ],
     "prompt_number": 17
    },
    {
     "cell_type": "heading",
     "level": 3,
     "metadata": {},
     "source": [
      "Run the Model"
     ]
    },
    {
     "cell_type": "markdown",
     "metadata": {},
     "source": [
      "In order to run the BTYD models, import the data from BigQuery into R."
     ]
    },
    {
     "cell_type": "code",
     "collapsed": false,
     "input": [
      "import pandas\n",
      "df = pandas.DataFrame(event_log_data)\n",
      "#dataframe = com.convert_to_r_dataframe(df)"
     ],
     "language": "python",
     "metadata": {},
     "outputs": [],
     "prompt_number": 44
    },
    {
     "cell_type": "code",
     "collapsed": false,
     "input": [
      "%Rpush df"
     ],
     "language": "python",
     "metadata": {},
     "outputs": [],
     "prompt_number": 45
    },
    {
     "cell_type": "markdown",
     "metadata": {},
     "source": [
      "The code below prepares the data for the Pareto/NBD, runs the model, and then prints out the parameter estimates."
     ]
    },
    {
     "cell_type": "code",
     "collapsed": false,
     "input": [
      "%%R\n",
      "\n",
      "head(df)"
     ],
     "language": "python",
     "metadata": {},
     "outputs": [
      {
       "metadata": {},
       "output_type": "display_data",
       "text": [
        "    a_date     a_fullVisitorId a_totals_transactionRevenue\n",
        "1 20140101 6691278106155777927                     1000000\n",
        "2 20140101 5035634587972412201                     1000000\n",
        "3 20140101  798728884672787212                     1000000\n",
        "4 20140101 1536304984214463520                    24000000\n",
        "5 20140101 1690046877627854326                    69000000\n",
        "6 20140101 6900719867062903031                    25000000\n",
        "  a_totals_transactions     b_fullVisitorId\n",
        "1                     1 6691278106155777927\n",
        "2                     2 5035634587972412201\n",
        "3                     1  798728884672787212\n",
        "4                     1 1536304984214463520\n",
        "5                     2 1690046877627854326\n",
        "6                     1 6900719867062903031\n"
       ]
      }
     ],
     "prompt_number": 15
    },
    {
     "cell_type": "code",
     "collapsed": false,
     "input": [
      "%%R -i start_date,end_date,cohort_end_date,end_of_cal_period\n",
      "\n",
      "elog <- data.frame(cust = df$a_fullVisitorId , date = df$a_date, sales = df$a_totals_transactionRevenue)\n",
      "elog$sales <- elog$sales / 10^6\n",
      "\n",
      "# format dates\n",
      "elog$date <- as.Date(elog$date, \"%Y%m%d\")\n",
      "\n",
      "# set key dates\n",
      "end.of.cal.period <- as.Date(end_of_cal_period)\n",
      "T.end <- max(elog$date)\n",
      "T.star <- as.numeric(T.end - end.of.cal.period)\n",
      "T.tot <- as.numeric(max(elog$date) - min(elog$date))\n",
      "\n",
      "dataset <- dc.ElogToCbsCbt(elog, per=\"day\", \n",
      "  T.cal=end.of.cal.period)\n",
      "\n",
      "# estimate model\n",
      "cal.cbs <- dataset[[\"cal\"]][[\"cbs\"]]\n",
      "params <- pnbd.EstimateParameters(cal.cbs)\n",
      "\n",
      "print(params)"
     ],
     "language": "python",
     "metadata": {},
     "outputs": [
      {
       "metadata": {},
       "output_type": "display_data",
       "text": [
        "Started making CBS and CBT from the ELOG...\n",
        "...Completed Freq CBT\n",
        "Finished filtering out customers not in the birth period.\n",
        "No dissipation requested.\n",
        "Started merging same-date transactions...\n",
        "... Finished merging same-date transactions.\n",
        "Started Creating Repeat Purchases\n",
        "Finished Creating Repeat Purchases\n",
        "Started Building CBS and CBT for calibration period...\n",
        "Started Building CBT...\n",
        "...Completed Freq CBT\n",
        "Started Building CBT...\n",
        "...Completed Freq CBT\n",
        "Started making calibration period CBS...\n",
        "Finished building CBS.\n",
        "Finished building CBS and CBT for calibration period.\n",
        "Started building CBS and CBT for holdout period...\n",
        "Started Building CBT...\n",
        "...Completed Freq CBT\n",
        "Started making holdout period CBS...\n",
        "Finished building CBS.\n",
        "Finished building CBS and CBT for holdout.\n",
        "...Finished Making All CBS and CBT\n",
        "[1]  0.4866105 64.6715946  1.1695122 11.6100601\n"
       ]
      }
     ],
     "prompt_number": 46
    },
    {
     "cell_type": "heading",
     "level": 3,
     "metadata": {},
     "source": [
      "Assess Model Fit"
     ]
    },
    {
     "cell_type": "markdown",
     "metadata": {},
     "source": [
      "Before using the model to make forecasts, model fit should be assessed. This can be done using the [Mean Absolute Percentage Error](http://en.wikipedia.org/wiki/Mean_absolute_percentage_error) (MAPE). "
     ]
    },
    {
     "cell_type": "code",
     "collapsed": false,
     "input": [
      "%%R\n",
      "mape <- function(actual, forecasted) {\n",
      "    n <- length(actual)\n",
      "    (1/n) * sum(abs((actual - forecasted) / actual))\n",
      "}"
     ],
     "language": "python",
     "metadata": {},
     "outputs": [],
     "prompt_number": 32
    },
    {
     "cell_type": "code",
     "collapsed": false,
     "input": [
      "%%R\n",
      "# calculate incremental and cumulative vectors\n",
      "T.cal <- cal.cbs[,3]\n",
      "actual.inc.tracking.data <- cbind(dataset[['cal']][['cbt']], \n",
      "  dataset[['holdout']][['cbt']])\n",
      "actual.inc.tracking.data <- apply(actual.inc.tracking.data, 2, sum)\n",
      "actual.cum.tracking.data <- cumsum(actual.inc.tracking.data)\n",
      "expected.cum.trans <- pnbd.ExpectedCumulativeTransactions(params, T.cal, T.tot, length(actual.cum.tracking.data))\n",
      "\n",
      "# find end of calibration date\n",
      "end.of.cal.day <- as.numeric(end.of.cal.period - min(elog$date))\n",
      "\n",
      "total.mape <- mape(actual.cum.tracking.data, expected.cum.trans)\n",
      "in.sample.mape <- mape(actual.cum.tracking.data[1:end.of.cal.day], expected.cum.trans[1:end.of.cal.day])\n",
      "out.of.sample.mape <- mape(actual.cum.tracking.data[end.of.cal.day:T.tot], expected.cum.trans[end.of.cal.day:T.tot])\n",
      "mape.outputs <- data.frame(\"MAPE\"=c(in.sample.mape, out.of.sample.mape, total.mape))\n",
      "row.names(mape.outputs) <- c(\"In sample\", \"Out of sample\", \"Total\")\n",
      "print(mape.outputs)"
     ],
     "language": "python",
     "metadata": {},
     "outputs": [
      {
       "metadata": {},
       "output_type": "display_data",
       "text": [
        "                    MAPE\n",
        "In sample     0.06443421\n",
        "Out of sample 0.03480061\n",
        "Total         0.05127806\n"
       ]
      }
     ],
     "prompt_number": 47
    },
    {
     "cell_type": "markdown",
     "metadata": {},
     "source": [
      "While there are no steadfast rules for assessing model fit, a general heuristic is a MAPE of less than 10% is a good model fit, between 10-20% is cause for concern, and above 20% is a bad model fit. \n",
      "\n",
      "At this point, if you are confident in the model fit based on the MAPE calculation, you may continue to the [Compute Model Outputs](#Compute-Model-Outputs) section. If you are not confident in the model fit or would like to dig deeper into the model, continue to the Analyze the Model section below. "
     ]
    },
    {
     "cell_type": "heading",
     "level": 3,
     "metadata": {},
     "source": [
      "Analyze the Model"
     ]
    },
    {
     "cell_type": "markdown",
     "metadata": {},
     "source": [
      "Now that the parameters of the Pareto/NBD have been estimated, they can be used to make projections. For example, the code below prints the expected number of transactions for a new customer in one year."
     ]
    },
    {
     "cell_type": "code",
     "collapsed": false,
     "input": [
      "%R print(round(pnbd.Expectation(params, t=365), digits=1))"
     ],
     "language": "python",
     "metadata": {},
     "outputs": [
      {
       "metadata": {},
       "output_type": "display_data",
       "text": [
        "[1] 0.2\n"
       ]
      }
     ],
     "prompt_number": 48
    },
    {
     "cell_type": "markdown",
     "metadata": {},
     "source": [
      "Model fit can also be assessed graphically. The graph below is a histogram of repeat transactions."
     ]
    },
    {
     "cell_type": "code",
     "collapsed": false,
     "input": [
      "%%R\n",
      "# histogram\n",
      "pnbd.PlotFrequencyInCalibration(params, cal.cbs, 7)"
     ],
     "language": "python",
     "metadata": {},
     "outputs": [
      {
       "metadata": {},
       "output_type": "display_data",
       "text": [
        "         [,1]     [,2]     [,3]     [,4]     [,5]     [,6]     [,7]     [,8]\n",
        "[1,] 47128.00 4253.000  950.000 301.0000 130.0000 81.00000 33.00000 64.00000\n",
        "[2,] 47218.04 3929.551 1006.182 384.5855 177.5053 90.75156 49.34459 84.03876\n"
       ]
      },
      {
       "metadata": {},
       "output_type": "display_data",
       "png": "[encoded data removed]"
      }
     ],
     "prompt_number": 49
    },
    {
     "cell_type": "markdown",
     "metadata": {},
     "source": [
      "The following two graphs show cumulative and incremental transactions, respectively, for both the data and as fit by the model. The vertical line separates the calibration period data from the holdout data. "
     ]
    },
    {
     "cell_type": "code",
     "collapsed": false,
     "input": [
      "%%R\n",
      "# cum tracking\n",
      "cum.tracking <- pnbd.PlotTrackingCum(params, T.cal, T.tot,\n",
      "  actual.cum.tracking.data, xlab=\"Day\")"
     ],
     "language": "python",
     "metadata": {},
     "outputs": [
      {
       "metadata": {},
       "output_type": "display_data",
       "png": "[encoded data removed]"
      }
     ],
     "prompt_number": 50
    },
    {
     "cell_type": "code",
     "collapsed": false,
     "input": [
      "%%R\n",
      "# inc tracking\n",
      "inc.tracking <- pnbd.PlotTrackingInc(params, T.cal, T.tot, \n",
      "  actual.inc.tracking.data, xlab=\"Day\", title=\"Tracking Daily Transactions\")"
     ],
     "language": "python",
     "metadata": {},
     "outputs": [
      {
       "metadata": {},
       "output_type": "display_data",
       "png": "[encoded data removed]"
      }
     ],
     "prompt_number": 51
    },
    {
     "cell_type": "markdown",
     "metadata": {},
     "source": [
      "As a final graphical assessment of model fit, the graph below plots actual transactions against conditional expected transactions made by customers in the holdout period, binned by how many transactions the customers made in the calibration period. "
     ]
    },
    {
     "cell_type": "code",
     "collapsed": false,
     "input": [
      "%%R\n",
      "x.star <- dataset$holdout$cbs[,1]\n",
      "censor <- 3\n",
      "cond.expectation <- pnbd.PlotFreqVsConditionalExpectedFrequency(params,\n",
      "    T.star, cal.cbs, dataset$holdout$cbs[,1], censor)\n",
      "cond.expectation    "
     ],
     "language": "python",
     "metadata": {},
     "outputs": [
      {
       "metadata": {},
       "output_type": "display_data",
       "text": [
        "             [,1]         [,2]        [,3]        [,4]\n",
        "[1,] 1.468342e-02 7.735716e-02   0.2242105   0.8981938\n",
        "[2,] 8.833767e-03 1.099880e-01   0.3042946   0.9294291\n",
        "[3,] 4.712800e+04 4.253000e+03 950.0000000 609.0000000\n"
       ]
      },
      {
       "metadata": {},
       "output_type": "display_data",
       "png": "[encoded data removed]"
      }
     ],
     "prompt_number": 52
    },
    {
     "cell_type": "markdown",
     "metadata": {},
     "source": [
      "The MAPE of the conditional expectation plot can be calculated:"
     ]
    },
    {
     "cell_type": "code",
     "collapsed": false,
     "input": [
      "%%R\n",
      "mape.cond.expectation <- (1 / ncol(cond.expectation)) * sum(abs((cond.expectation[1,] - cond.expectation[2,]) / cond.expectation[1,]))\n",
      "mape.cond.expectation"
     ],
     "language": "python",
     "metadata": {},
     "outputs": [
      {
       "metadata": {},
       "output_type": "display_data",
       "text": [
        "[1] 0.303041\n"
       ]
      }
     ],
     "prompt_number": 53
    },
    {
     "cell_type": "markdown",
     "metadata": {},
     "source": [
      "It is illustrative to view a heatmap of the conditional expected transactions for different recency and frequency values. "
     ]
    },
    {
     "cell_type": "code",
     "collapsed": false,
     "input": [
      "%%R\n",
      "heatmap.palive.data <- matrix(NA, nrow=10, ncol=200)\n",
      "heatmap.cet.data <- matrix(NA, nrow=10, ncol=200)\n",
      "for(i in 1:10) {\n",
      "    heatmap.cet.data[i,] <- pnbd.ConditionalExpectedTransactions(params, T.star=365, x=i, t.x=1:200, T.cal=200)\n",
      "    heatmap.palive.data[i,] <- pnbd.PAlive(params, x=i, t.x=1:200, T.cal=200)\n",
      "}\n",
      "image(heatmap.palive.data, axes=FALSE, xlab=\"Number of Transactions\", ylab=\"Days since last transaction\", main=\"P(Alive) by Recency and Frequency\")\n",
      "axis(1, at=seq(0,1,.1), labels=0:10)\n",
      "axis(2, at=seq(0,1,.1), labels=seq(200,0,-20))\n",
      "\n",
      "image(heatmap.cet.data, axes=FALSE, xlab=\"Number of Transactions\", ylab=\"Days since last transaction\", main=\"Conditional Expected Transactions by Recency and Frequency\")\n",
      "axis(1, at=seq(0,1,.1), labels=0:10)\n",
      "axis(2, at=seq(0,1,.1), labels=seq(200,0,-20))"
     ],
     "language": "python",
     "metadata": {},
     "outputs": [
      {
       "metadata": {},
       "output_type": "display_data",
       "png": "[encoded data removed]"
      },
      {
       "metadata": {},
       "output_type": "display_data",
       "png": "[encoded data removed]"
      }
     ],
     "prompt_number": 54
    },
    {
     "cell_type": "markdown",
     "metadata": {},
     "source": [
      "In addition to forecasting how many times a new customer will purchase in the next year, you can use the model to forecast how many times each existing customer will purchase in the next year, conditional on their past behavior. You can also compute the probability that they are still alive or active (p_Alive). Both the expected transactions and probability of being alive for each customer are computed below, conditional on their observed behavior."
     ]
    },
    {
     "cell_type": "code",
     "collapsed": false,
     "input": [
      "%%R\n",
      "x <- cal.cbs[, \"x\"]\n",
      "t.x <- cal.cbs[, \"t.x\"]\n",
      "T.cal <- cal.cbs[, \"T.cal\"]\n",
      "conditional_expected_transactions <- pnbd.ConditionalExpectedTransactions(params, T.star = 365,\n",
      "x, t.x, T.cal)\n",
      "p_Alive <- pnbd.PAlive(params, x, t.x, T.cal)\n",
      "output <- data.frame(visitorId=dataset$cust.data$cust, conditional_expected_transactions=conditional_expected_transactions, p_Alive=p_Alive)\n",
      "output[c(1,400,4000,3000),]"
     ],
     "language": "python",
     "metadata": {},
     "outputs": [
      {
       "metadata": {},
       "output_type": "display_data",
       "text": [
        "            visitorId conditional_expected_transactions      p_Alive\n",
        "1 8669707159870925119                       0.016874363 0.0263505788\n",
        "2 1952903566247454168                       0.017107538 0.0265960925\n",
        "3 7827536645188513481                       0.046259665 0.0090483644\n",
        "4   42494948981719194                       0.003594905 0.0007130553\n"
       ]
      }
     ],
     "prompt_number": 831
    },
    {
     "cell_type": "markdown",
     "metadata": {},
     "source": [
      "In order to complete the Customer Lifetime Value calculation, it will be necessary to build a model to forecast how much each customer will spend per transaction. The Gamma / Gamma model to forecast average spend per customer is run below."
     ]
    },
    {
     "cell_type": "code",
     "collapsed": false,
     "input": [
      "%%R\n",
      "#cal.cbt <- dc.CreateSpendCBT(elog, is.avg.spend = FALSE)\n",
      "cal.cbt <- dc.ElogToCbsCbt(elog, per=\"day\", T.cal=end.of.cal.period, cohort.birth.per=as.Date(cohort_end_date), statistic=\"total.spend\")\n",
      "cal.cbs <- cal.cbt$cal$cbs\n",
      "cal.cbt <- cal.cbt$cal$cbt\n",
      "calculateAvgSpend <- function(cbt.row) {\n",
      "    purchaseCols = which(cbt.row != 0)\n",
      "    sum(cbt.row[purchaseCols]) / length(purchaseCols)\n",
      "}\n",
      "\n",
      "m.x <- apply(cal.cbt, 1, calculateAvgSpend)\n",
      "m.x[which(is.na(m.x))] <- 0\n",
      "spendParams <- spend.EstimateParameters(m.x, cal.cbs[,1])\n",
      "print(spendParams)"
     ],
     "language": "python",
     "metadata": {},
     "outputs": [
      {
       "metadata": {},
       "output_type": "display_data",
       "text": [
        "Started making CBS and CBT from the ELOG...\n",
        "...Completed Freq CBT\n",
        "Finished filtering out customers not in the birth period.\n",
        "No dissipation requested.\n",
        "Started merging same-date transactions...\n",
        "... Finished merging same-date transactions.\n",
        "Started Creating Repeat Purchases\n",
        "Finished Creating Repeat Purchases\n",
        "Started Building CBS and CBT for calibration period...\n",
        "Started Building CBT...\n",
        "...Completed Spend CBT\n",
        "Started Building CBT...\n",
        "...Completed Spend CBT\n",
        "Started making calibration period CBS...\n",
        "Finished building CBS.\n",
        "Finished building CBS and CBT for calibration period.\n",
        "Started building CBS and CBT for holdout period...\n",
        "Started Building CBT...\n",
        "...Completed Spend CBT\n",
        "Started making holdout period CBS...\n",
        "Finished building CBS.\n",
        "Finished building CBS and CBT for holdout.\n",
        "...Finished Making All CBS and CBT\n",
        "[1]   0.1444576   1.3051574 226.4654886\n"
       ]
      }
     ],
     "prompt_number": 1002
    },
    {
     "cell_type": "code",
     "collapsed": false,
     "input": [
      "%%R \n",
      "expected.spend <- spend.plot.average.transaction.value(spendParams, m.x, cal.cbs[,1], title = \"Actual vs. Expected Avg Transaction Value Across Customers\")"
     ],
     "language": "python",
     "metadata": {},
     "outputs": [
      {
       "metadata": {},
       "output_type": "display_data",
       "text": [
        "[1]   1.000   3.000  22.500  10.000   3.000 153.125\n"
       ]
      },
      {
       "metadata": {},
       "output_type": "display_data",
       "png": "[encoded data removed]"
      }
     ],
     "prompt_number": 1014
    },
    {
     "cell_type": "code",
     "collapsed": false,
     "input": [
      "%%R\n",
      "mape(m.x[which(m.x > 0)], expected.spend)"
     ],
     "language": "python",
     "metadata": {},
     "outputs": [
      {
       "metadata": {},
       "output_type": "display_data",
       "text": [
        "[1] 0.9919483\n"
       ]
      }
     ],
     "prompt_number": 1023
    },
    {
     "cell_type": "heading",
     "level": 2,
     "metadata": {},
     "source": [
      "Compute Model Outputs"
     ]
    },
    {
     "cell_type": "markdown",
     "metadata": {},
     "source": [
      "Once confident in model fit, the model must be rerun using all of the data. In the previous section, the data from the holdout period was used to assess model fit. In order to generate a true forecast, you must run the model on all of the data."
     ]
    },
    {
     "cell_type": "code",
     "collapsed": false,
     "input": [
      "%%R\n",
      "runParetoNbd(start_date, end_date, cohort_end_date, end_of_cal_period=end_date)"
     ],
     "language": "python",
     "metadata": {},
     "outputs": [
      {
       "output_type": "stream",
       "stream": "stdout",
       "text": [
        "Started making CBS and CBT from the ELOG...\n",
        "...Completed Freq CBT\n",
        "Finished filtering out customers not in the birth period.\n",
        "No dissipation requested.\n",
        "Started merging same-date transactions...\n",
        "... Finished merging same-date transactions.\n",
        "Started Creating Repeat Purchases\n",
        "Finished Creating Repeat Purchases\n",
        "Started Building CBS and CBT for calibration period...\n",
        "Started Building CBT...\n",
        "...Completed Freq CBT\n",
        "Started Building CBT...\n",
        "...Completed Freq CBT\n",
        "Started making calibration period CBS...\n",
        "Finished building CBS.\n",
        "Finished building CBS and CBT for calibration period.\n",
        "...Finished Making All CBS and CBT\n",
        "Error in optim(logparams, pnbd.eLL, cal.cbs = cal.cbs, max.param.value = max.param.value,  : \n",
        "  L-BFGS-B needs finite values of 'fn'\n"
       ]
      }
     ],
     "prompt_number": 1025
    },
    {
     "cell_type": "markdown",
     "metadata": {},
     "source": [
      "If you'd like, you can analyze the parameters of the new model by returning to the previous sections. Otherwise, continue below and calculate some key outputs of the model, which will later be imported back into BigQuery for further analysis. "
     ]
    },
    {
     "cell_type": "code",
     "collapsed": false,
     "input": [
      "%%R\n",
      "expected_spend <- spend.expected.value(spendParams, m.x, cal.cbs[,1])\n",
      "output$expected_spend <- expected_spend\n",
      "output$clv <- output$expected_spend * output$conditional_expected_transactions\n",
      "output[1:20,]"
     ],
     "language": "python",
     "metadata": {},
     "outputs": [
      {
       "metadata": {},
       "output_type": "display_data",
       "text": [
        "             visitorId conditional_expected_transactions    p_Alive\n",
        "1  7934380424896492592                       0.003081246 0.01664270\n",
        "2  1769320725392701794                       0.003081246 0.01664270\n",
        "3  7327239071930204483                       0.003081246 0.01664270\n",
        "4  3398029245237463311                       0.003081246 0.01664270\n",
        "5  6349538733918012999                       0.003081246 0.01664270\n",
        "6  4886333055087975382                       0.003081246 0.01664270\n",
        "7  2420925095930549397                       0.003081246 0.01664270\n",
        "8  8927557617430365996                       0.003081246 0.01664270\n",
        "9   196731236079953884                       0.003081246 0.01664270\n",
        "10 6561983321210142159                       0.003081246 0.01664270\n",
        "11 3376114239034121942                       0.003081246 0.01664270\n",
        "12 6409715628076482922                       0.003081246 0.01664270\n",
        "13 1322306984560844336                       0.003081246 0.01664270\n",
        "14 5099824613672933700                       0.003081246 0.01664270\n",
        "15 4811619942900484801                       0.007738696 0.01022868\n",
        "16 8981923468081902280                       0.003081246 0.01664270\n",
        "17 6958273373722122964                       0.003081246 0.01664270\n",
        "18 5863295912855780719                       0.003081246 0.01664270\n",
        "19 6777826812476305673                       0.003081246 0.01664270\n",
        "20 3899134534339540045                       0.003081246 0.01664270\n",
        "   expected_spend       clv\n",
        "1        260.5943 0.8029553\n",
        "2        260.5943 0.8029553\n",
        "3        260.5943 0.8029553\n",
        "4        260.5943 0.8029553\n",
        "5        260.5943 0.8029553\n",
        "6        260.5943 0.8029553\n",
        "7        260.5943 0.8029553\n",
        "8        260.5943 0.8029553\n",
        "9        260.5943 0.8029553\n",
        "10       260.5943 0.8029553\n",
        "11       260.5943 0.8029553\n",
        "12       260.5943 0.8029553\n",
        "13       260.5943 0.8029553\n",
        "14       260.5943 0.8029553\n",
        "15       454.6239 3.5181959\n",
        "16       260.5943 0.8029553\n",
        "17       260.5943 0.8029553\n",
        "18       260.5943 0.8029553\n",
        "19       260.5943 0.8029553\n",
        "20       260.5943 0.8029553\n"
       ]
      }
     ],
     "prompt_number": 745
    },
    {
     "cell_type": "code",
     "collapsed": false,
     "input": [
      "%%R\n",
      "which.max(output[,5])"
     ],
     "language": "python",
     "metadata": {},
     "outputs": [
      {
       "metadata": {},
       "output_type": "display_data",
       "png": "[encoded data removed]"
      }
     ],
     "prompt_number": 755
    },
    {
     "cell_type": "heading",
     "level": 2,
     "metadata": {},
     "source": [
      "Analyzing the data in BigQuery"
     ]
    },
    {
     "cell_type": "markdown",
     "metadata": {},
     "source": [
      "Import CLV table into BigQuery and run some queries and do analysis"
     ]
    },
    {
     "cell_type": "code",
     "collapsed": false,
     "input": [],
     "language": "python",
     "metadata": {},
     "outputs": [],
     "prompt_number": 467
    },
    {
     "cell_type": "code",
     "collapsed": false,
     "input": [],
     "language": "python",
     "metadata": {},
     "outputs": []
    }
   ],
   "metadata": {}
  }
 ]
}
